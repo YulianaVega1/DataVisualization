{
  "nbformat": 4,
  "nbformat_minor": 0,
  "metadata": {
    "colab": {
      "provenance": [],
      "authorship_tag": "ABX9TyPBPp6MD3eT5zhj0KZEZ7xw",
      "include_colab_link": true
    },
    "kernelspec": {
      "name": "python3",
      "display_name": "Python 3"
    },
    "language_info": {
      "name": "python"
    }
  },
  "cells": [
    {
      "cell_type": "markdown",
      "metadata": {
        "id": "view-in-github",
        "colab_type": "text"
      },
      "source": [
        "<a href=\"https://colab.research.google.com/github/YulianaVega1/DataVisualization/blob/main/Phyton_variable.ipynb\" target=\"_parent\"><img src=\"https://colab.research.google.com/assets/colab-badge.svg\" alt=\"Open In Colab\"/></a>"
      ]
    },
    {
      "cell_type": "markdown",
      "source": [
        "# **1. What is a variable?**\n",
        "\n",
        "A variable is a container, in the sense that it *stores* values."
      ],
      "metadata": {
        "id": "bXYkhb8lwy6D"
      }
    },
    {
      "cell_type": "markdown",
      "source": [
        "# **Declaration**"
      ],
      "metadata": {
        "id": "y_ANx7lSoeTt"
      }
    },
    {
      "cell_type": "code",
      "source": [
        "# Example\n",
        "\n",
        "a = 2.54\n",
        "print(a)\n",
        "round(a)"
      ],
      "metadata": {
        "colab": {
          "base_uri": "https://localhost:8080/"
        },
        "id": "VikGgEMExLHY",
        "outputId": "1f5c47d0-ee1f-46a7-b388-3bde17e197f7"
      },
      "execution_count": null,
      "outputs": [
        {
          "output_type": "stream",
          "name": "stdout",
          "text": [
            "2.54\n"
          ]
        },
        {
          "output_type": "execute_result",
          "data": {
            "text/plain": [
              "3"
            ]
          },
          "metadata": {},
          "execution_count": 1
        }
      ]
    },
    {
      "cell_type": "code",
      "execution_count": null,
      "metadata": {
        "colab": {
          "base_uri": "https://localhost:8080/"
        },
        "id": "n6_dBhHvwuuS",
        "outputId": "55c6f7f2-1bcb-44ee-a208-a7f45ff379c1"
      },
      "outputs": [
        {
          "output_type": "stream",
          "name": "stdout",
          "text": [
            "The aproximation of 8.5245645 with:\n",
            "decimals Results\n",
            "0 \t 9.0\n",
            "1 \t 8.5\n",
            "2 \t 8.52\n",
            "3 \t 8.525\n",
            "4 \t 8.5246\n",
            "5 \t 8.52456\n",
            "6 \t 8.524565\n",
            "7 \t 8.5245645\n"
          ]
        }
      ],
      "source": [
        "#Example\n",
        "nm=8.5245645\n",
        "pl= 0\n",
        "pf =7\n",
        "print('The aproximation of', nm, 'with:')\n",
        "print('decimals', 'Results')\n",
        "for i in range(pl,pf+1): print(i, '\\t', round(nm,i)) \n"
      ]
    },
    {
      "cell_type": "code",
      "source": [
        "# Example \n",
        "\n",
        "x = y = z = 45\n",
        "\n",
        "print(x,y,z)"
      ],
      "metadata": {
        "id": "m7HllUz_ybcF",
        "colab": {
          "base_uri": "https://localhost:8080/"
        },
        "outputId": "b0a05f9b-4870-4d55-9dcf-4bd96c1c035f"
      },
      "execution_count": null,
      "outputs": [
        {
          "output_type": "stream",
          "name": "stdout",
          "text": [
            "45 45 45\n"
          ]
        }
      ]
    },
    {
      "cell_type": "code",
      "source": [
        "# Example remplace value\n",
        "\n",
        "z = 17"
      ],
      "metadata": {
        "id": "vuRB3Unbo_wp"
      },
      "execution_count": null,
      "outputs": []
    },
    {
      "cell_type": "markdown",
      "source": [
        "# **3. Delete and clear**"
      ],
      "metadata": {
        "id": "3EOZIxAIpakE"
      }
    },
    {
      "cell_type": "code",
      "source": [
        "# Example delete\n",
        "\n",
        "del x, y"
      ],
      "metadata": {
        "id": "AKdChP0oph2V"
      },
      "execution_count": null,
      "outputs": []
    },
    {
      "cell_type": "code",
      "source": [
        "# Example clear\n",
        "\n",
        "%reset"
      ],
      "metadata": {
        "colab": {
          "base_uri": "https://localhost:8080/"
        },
        "id": "ymHDU-i4qBW9",
        "outputId": "9ff2b2ba-41f4-41d4-a174-e3f2161ee5ef"
      },
      "execution_count": null,
      "outputs": [
        {
          "name": "stdout",
          "output_type": "stream",
          "text": [
            "Once deleted, variables cannot be recovered. Proceed (y/[n])? y\n"
          ]
        }
      ]
    },
    {
      "cell_type": "markdown",
      "source": [
        "# **4. Naming"
      ],
      "metadata": {
        "id": "Gxg_1M7NqabR"
      }
    },
    {
      "cell_type": "markdown",
      "source": [
        "## 4.1 conditions and restriction"
      ],
      "metadata": {
        "id": "vbLYed_BqhIP"
      }
    },
    {
      "cell_type": "code",
      "source": [
        "# Example - always a name of variable must start with a letter\n",
        "\n",
        "age = 18\n",
        "\n"
      ],
      "metadata": {
        "id": "gkylzDgOqZli"
      },
      "execution_count": null,
      "outputs": []
    },
    {
      "cell_type": "markdown",
      "source": [
        "## 4.2 Best practices\n",
        "\n",
        "* Case sensitive"
      ],
      "metadata": {
        "id": "w9rOfLY5rN-S"
      }
    },
    {
      "cell_type": "code",
      "source": [
        "# Example \n",
        "\n",
        "Age = 15\n",
        "\n",
        "AGE = 41\n",
        "\n",
        "# Sug: Always use lower case (minuscula)"
      ],
      "metadata": {
        "id": "8QD7VBAbrWDP"
      },
      "execution_count": null,
      "outputs": []
    },
    {
      "cell_type": "markdown",
      "source": [
        "* Compound name"
      ],
      "metadata": {
        "id": "hxpUUSSiryC-"
      }
    },
    {
      "cell_type": "code",
      "source": [
        "#  Example \n",
        "\n",
        "price_jean = 150000\n",
        "\n"
      ],
      "metadata": {
        "id": "YXCopStXrZk2"
      },
      "execution_count": null,
      "outputs": []
    },
    {
      "cell_type": "markdown",
      "source": [
        "# **5. Data types**\n",
        "\n",
        "## 5.1 integers\n",
        "## 5.2 Float\n"
      ],
      "metadata": {
        "id": "ZRKJiquTsaju"
      }
    },
    {
      "cell_type": "markdown",
      "source": [
        "# **Parenthesis:** A trick"
      ],
      "metadata": {
        "id": "JYSQAvmlswNk"
      }
    },
    {
      "cell_type": "code",
      "source": [
        "# Example - set up \n",
        "\n",
        "w += -3\n",
        "\n",
        "print(w)"
      ],
      "metadata": {
        "colab": {
          "base_uri": "https://localhost:8080/"
        },
        "id": "B-nUekgts7vf",
        "outputId": "61d22c60-7bb9-4419-8676-aa249dceb284"
      },
      "execution_count": null,
      "outputs": [
        {
          "output_type": "stream",
          "name": "stdout",
          "text": [
            "2\n"
          ]
        }
      ]
    },
    {
      "cell_type": "markdown",
      "source": [
        "# 5.3 Text"
      ],
      "metadata": {
        "id": "OL4IN5OAtkVT"
      }
    },
    {
      "cell_type": "code",
      "source": [
        "# Example\n",
        "\n",
        "name = 'universidad de la salle'\n",
        "print(name)"
      ],
      "metadata": {
        "colab": {
          "base_uri": "https://localhost:8080/"
        },
        "id": "-FcAPpEDtpU1",
        "outputId": "13d35403-93bb-4c10-dace-2b10492ee8a2"
      },
      "execution_count": null,
      "outputs": [
        {
          "output_type": "stream",
          "name": "stdout",
          "text": [
            "universidad de la salle\n"
          ]
        }
      ]
    },
    {
      "cell_type": "code",
      "source": [
        "name[0]"
      ],
      "metadata": {
        "colab": {
          "base_uri": "https://localhost:8080/",
          "height": 35
        },
        "id": "97H3W2sTuAIB",
        "outputId": "7615b15d-3139-4082-8453-26d23a983142"
      },
      "execution_count": null,
      "outputs": [
        {
          "output_type": "execute_result",
          "data": {
            "text/plain": [
              "'u'"
            ],
            "application/vnd.google.colaboratory.intrinsic+json": {
              "type": "string"
            }
          },
          "metadata": {},
          "execution_count": 57
        }
      ]
    },
    {
      "cell_type": "code",
      "source": [
        "name[-2]"
      ],
      "metadata": {
        "colab": {
          "base_uri": "https://localhost:8080/",
          "height": 35
        },
        "id": "NGiYExvPuoAU",
        "outputId": "1d3134e6-7ab7-4319-bd5d-73ea933f306e"
      },
      "execution_count": null,
      "outputs": [
        {
          "output_type": "execute_result",
          "data": {
            "text/plain": [
              "'l'"
            ],
            "application/vnd.google.colaboratory.intrinsic+json": {
              "type": "string"
            }
          },
          "metadata": {},
          "execution_count": 59
        }
      ]
    },
    {
      "cell_type": "code",
      "source": [
        "name[0:12]"
      ],
      "metadata": {
        "colab": {
          "base_uri": "https://localhost:8080/",
          "height": 35
        },
        "id": "MoEz_gbrusee",
        "outputId": "63146ce5-26f3-43c9-a091-2da4bf681d44"
      },
      "execution_count": null,
      "outputs": [
        {
          "output_type": "execute_result",
          "data": {
            "text/plain": [
              "'universidad '"
            ],
            "application/vnd.google.colaboratory.intrinsic+json": {
              "type": "string"
            }
          },
          "metadata": {},
          "execution_count": 61
        }
      ]
    },
    {
      "cell_type": "code",
      "source": [
        "name.split()[0]"
      ],
      "metadata": {
        "colab": {
          "base_uri": "https://localhost:8080/",
          "height": 35
        },
        "id": "wfWGK7e3u1LF",
        "outputId": "fea249a7-a7ea-4719-81ea-b8e500c98721"
      },
      "execution_count": null,
      "outputs": [
        {
          "output_type": "execute_result",
          "data": {
            "text/plain": [
              "'universidad'"
            ],
            "application/vnd.google.colaboratory.intrinsic+json": {
              "type": "string"
            }
          },
          "metadata": {},
          "execution_count": 63
        }
      ]
    },
    {
      "cell_type": "markdown",
      "source": [
        "Example 3 vector"
      ],
      "metadata": {
        "id": "TqHql-pCndTq"
      }
    },
    {
      "cell_type": "code",
      "source": [
        "M = np.array([[1, 2, 3],[4, 5, 6],[7, 8, 9]])\n",
        "print(M)\n",
        "print(M, shape)"
      ],
      "metadata": {
        "colab": {
          "base_uri": "https://localhost:8080/",
          "height": 200
        },
        "id": "kDr0OLxGnc97",
        "outputId": "9feae9a2-4e00-4ad0-d524-f43427b188fd"
      },
      "execution_count": 2,
      "outputs": [
        {
          "output_type": "error",
          "ename": "NameError",
          "evalue": "ignored",
          "traceback": [
            "\u001b[0;31m---------------------------------------------------------------------------\u001b[0m",
            "\u001b[0;31mNameError\u001b[0m                                 Traceback (most recent call last)",
            "\u001b[0;32m<ipython-input-2-c4f787d72643>\u001b[0m in \u001b[0;36m<module>\u001b[0;34m\u001b[0m\n\u001b[0;32m----> 1\u001b[0;31m \u001b[0mM\u001b[0m \u001b[0;34m=\u001b[0m \u001b[0mnp\u001b[0m\u001b[0;34m.\u001b[0m\u001b[0marray\u001b[0m\u001b[0;34m(\u001b[0m\u001b[0;34m[\u001b[0m\u001b[0;34m[\u001b[0m\u001b[0;36m1\u001b[0m\u001b[0;34m,\u001b[0m \u001b[0;36m2\u001b[0m\u001b[0;34m,\u001b[0m \u001b[0;36m3\u001b[0m\u001b[0;34m]\u001b[0m\u001b[0;34m,\u001b[0m\u001b[0;34m[\u001b[0m\u001b[0;36m4\u001b[0m\u001b[0;34m,\u001b[0m \u001b[0;36m5\u001b[0m\u001b[0;34m,\u001b[0m \u001b[0;36m6\u001b[0m\u001b[0;34m]\u001b[0m\u001b[0;34m,\u001b[0m\u001b[0;34m[\u001b[0m\u001b[0;36m7\u001b[0m\u001b[0;34m,\u001b[0m \u001b[0;36m8\u001b[0m\u001b[0;34m,\u001b[0m \u001b[0;36m9\u001b[0m\u001b[0;34m]\u001b[0m\u001b[0;34m]\u001b[0m\u001b[0;34m)\u001b[0m\u001b[0;34m\u001b[0m\u001b[0;34m\u001b[0m\u001b[0m\n\u001b[0m\u001b[1;32m      2\u001b[0m \u001b[0mprint\u001b[0m\u001b[0;34m(\u001b[0m\u001b[0mM\u001b[0m\u001b[0;34m)\u001b[0m\u001b[0;34m\u001b[0m\u001b[0;34m\u001b[0m\u001b[0m\n\u001b[1;32m      3\u001b[0m \u001b[0mprint\u001b[0m\u001b[0;34m(\u001b[0m\u001b[0mM\u001b[0m\u001b[0;34m,\u001b[0m \u001b[0mshape\u001b[0m\u001b[0;34m)\u001b[0m\u001b[0;34m\u001b[0m\u001b[0;34m\u001b[0m\u001b[0m\n",
            "\u001b[0;31mNameError\u001b[0m: name 'np' is not defined"
          ]
        }
      ]
    },
    {
      "cell_type": "code",
      "source": [],
      "metadata": {
        "id": "DQqH9x0nohkH"
      },
      "execution_count": null,
      "outputs": []
    },
    {
      "cell_type": "markdown",
      "source": [
        "# 2.3 Sciling\n",
        "\n",
        "To access one or several elements of the object.\n"
      ],
      "metadata": {
        "id": "LTBRXGvgpRcg"
      }
    },
    {
      "cell_type": "code",
      "source": [
        "# extract the first element\n",
        "import numpy as np\n",
        "\n",
        "## Column vector\n",
        "print(a[0,0])"
      ],
      "metadata": {
        "colab": {
          "base_uri": "https://localhost:8080/",
          "height": 200
        },
        "id": "uOCfUbq3pn9c",
        "outputId": "9984a4f2-7399-41af-9839-a4d3a1c98cb4"
      },
      "execution_count": 25,
      "outputs": [
        {
          "output_type": "error",
          "ename": "NameError",
          "evalue": "ignored",
          "traceback": [
            "\u001b[0;31m---------------------------------------------------------------------------\u001b[0m",
            "\u001b[0;31mNameError\u001b[0m                                 Traceback (most recent call last)",
            "\u001b[0;32m<ipython-input-25-2d1378c56988>\u001b[0m in \u001b[0;36m<module>\u001b[0;34m\u001b[0m\n\u001b[1;32m      3\u001b[0m \u001b[0;34m\u001b[0m\u001b[0m\n\u001b[1;32m      4\u001b[0m \u001b[0;31m## Column vector\u001b[0m\u001b[0;34m\u001b[0m\u001b[0;34m\u001b[0m\u001b[0m\n\u001b[0;32m----> 5\u001b[0;31m \u001b[0mprint\u001b[0m\u001b[0;34m(\u001b[0m\u001b[0ma\u001b[0m\u001b[0;34m[\u001b[0m\u001b[0;36m0\u001b[0m\u001b[0;34m,\u001b[0m\u001b[0;36m0\u001b[0m\u001b[0;34m]\u001b[0m\u001b[0;34m)\u001b[0m\u001b[0;34m\u001b[0m\u001b[0;34m\u001b[0m\u001b[0m\n\u001b[0m",
            "\u001b[0;31mNameError\u001b[0m: name 'a' is not defined"
          ]
        }
      ]
    },
    {
      "cell_type": "code",
      "source": [
        "print(b[0,0])\n",
        "\n",
        "## Matrix \n",
        "print(M[0,0])"
      ],
      "metadata": {
        "colab": {
          "base_uri": "https://localhost:8080/",
          "height": 165
        },
        "id": "4jxo0vv7qN2L",
        "outputId": "f44a498f-173c-4c81-868a-852f7b9f7da1"
      },
      "execution_count": 5,
      "outputs": [
        {
          "output_type": "error",
          "ename": "NameError",
          "evalue": "ignored",
          "traceback": [
            "\u001b[0;31m---------------------------------------------------------------------------\u001b[0m",
            "\u001b[0;31mNameError\u001b[0m                                 Traceback (most recent call last)",
            "\u001b[0;32m<ipython-input-5-85d63d4a4624>\u001b[0m in \u001b[0;36m<module>\u001b[0;34m\u001b[0m\n\u001b[0;32m----> 1\u001b[0;31m \u001b[0mprint\u001b[0m\u001b[0;34m(\u001b[0m\u001b[0mb\u001b[0m\u001b[0;34m[\u001b[0m\u001b[0;36m0\u001b[0m\u001b[0;34m,\u001b[0m\u001b[0;36m0\u001b[0m\u001b[0;34m]\u001b[0m\u001b[0;34m)\u001b[0m\u001b[0;34m\u001b[0m\u001b[0;34m\u001b[0m\u001b[0m\n\u001b[0m",
            "\u001b[0;31mNameError\u001b[0m: name 'b' is not defined"
          ]
        }
      ]
    },
    {
      "cell_type": "code",
      "source": [
        "# extract the last element\n",
        "print(a[-1,0])\n",
        "print(b[0,-1])\n",
        "print(M[-1,-1])"
      ],
      "metadata": {
        "colab": {
          "base_uri": "https://localhost:8080/",
          "height": 217
        },
        "id": "YLSEHwvYqfDv",
        "outputId": "b5c21c05-a520-44d7-9c69-04e01718a1d2"
      },
      "execution_count": 6,
      "outputs": [
        {
          "output_type": "error",
          "ename": "NameError",
          "evalue": "ignored",
          "traceback": [
            "\u001b[0;31m---------------------------------------------------------------------------\u001b[0m",
            "\u001b[0;31mNameError\u001b[0m                                 Traceback (most recent call last)",
            "\u001b[0;32m<ipython-input-6-b35d7154a54f>\u001b[0m in \u001b[0;36m<module>\u001b[0;34m\u001b[0m\n\u001b[1;32m      1\u001b[0m \u001b[0;31m# extract the last element\u001b[0m\u001b[0;34m\u001b[0m\u001b[0;34m\u001b[0m\u001b[0m\n\u001b[0;32m----> 2\u001b[0;31m \u001b[0mprint\u001b[0m\u001b[0;34m(\u001b[0m\u001b[0ma\u001b[0m\u001b[0;34m[\u001b[0m\u001b[0;34m-\u001b[0m\u001b[0;36m1\u001b[0m\u001b[0;34m,\u001b[0m\u001b[0;36m0\u001b[0m\u001b[0;34m]\u001b[0m\u001b[0;34m)\u001b[0m\u001b[0;34m\u001b[0m\u001b[0;34m\u001b[0m\u001b[0m\n\u001b[0m\u001b[1;32m      3\u001b[0m \u001b[0mprint\u001b[0m\u001b[0;34m(\u001b[0m\u001b[0mb\u001b[0m\u001b[0;34m[\u001b[0m\u001b[0;36m0\u001b[0m\u001b[0;34m,\u001b[0m\u001b[0;34m-\u001b[0m\u001b[0;36m1\u001b[0m\u001b[0;34m]\u001b[0m\u001b[0;34m)\u001b[0m\u001b[0;34m\u001b[0m\u001b[0;34m\u001b[0m\u001b[0m\n\u001b[1;32m      4\u001b[0m \u001b[0mprint\u001b[0m\u001b[0;34m(\u001b[0m\u001b[0mM\u001b[0m\u001b[0;34m[\u001b[0m\u001b[0;34m-\u001b[0m\u001b[0;36m1\u001b[0m\u001b[0;34m,\u001b[0m\u001b[0;34m-\u001b[0m\u001b[0;36m1\u001b[0m\u001b[0;34m]\u001b[0m\u001b[0;34m)\u001b[0m\u001b[0;34m\u001b[0m\u001b[0;34m\u001b[0m\u001b[0m\n",
            "\u001b[0;31mNameError\u001b[0m: name 'a' is not defined"
          ]
        }
      ]
    },
    {
      "cell_type": "code",
      "source": [
        "# Extract a subset\n",
        "\n",
        "## Column vector\n",
        "print(a[0:2])\n",
        "\n",
        "## Row Vector\n",
        "\n",
        "print(b[0,0:2])\n",
        "\n",
        "## matrix\n",
        "print(M[0:2,0:2])"
      ],
      "metadata": {
        "colab": {
          "base_uri": "https://localhost:8080/",
          "height": 235
        },
        "id": "rVLWMDRmr2VL",
        "outputId": "edcfabd4-b8ac-478b-a800-52449a29838f"
      },
      "execution_count": 93,
      "outputs": [
        {
          "output_type": "error",
          "ename": "NameError",
          "evalue": "ignored",
          "traceback": [
            "\u001b[0;31m---------------------------------------------------------------------------\u001b[0m",
            "\u001b[0;31mNameError\u001b[0m                                 Traceback (most recent call last)",
            "\u001b[0;32m<ipython-input-93-3648b2b8fb58>\u001b[0m in \u001b[0;36m<module>\u001b[0;34m\u001b[0m\n\u001b[1;32m      2\u001b[0m \u001b[0;34m\u001b[0m\u001b[0m\n\u001b[1;32m      3\u001b[0m \u001b[0;31m## Column vector\u001b[0m\u001b[0;34m\u001b[0m\u001b[0;34m\u001b[0m\u001b[0m\n\u001b[0;32m----> 4\u001b[0;31m \u001b[0mprint\u001b[0m\u001b[0;34m(\u001b[0m\u001b[0ma\u001b[0m\u001b[0;34m[\u001b[0m\u001b[0;36m0\u001b[0m\u001b[0;34m:\u001b[0m\u001b[0;36m2\u001b[0m\u001b[0;34m]\u001b[0m\u001b[0;34m)\u001b[0m\u001b[0;34m\u001b[0m\u001b[0;34m\u001b[0m\u001b[0m\n\u001b[0m\u001b[1;32m      5\u001b[0m \u001b[0;34m\u001b[0m\u001b[0m\n\u001b[1;32m      6\u001b[0m \u001b[0;31m## Row Vector\u001b[0m\u001b[0;34m\u001b[0m\u001b[0;34m\u001b[0m\u001b[0m\n",
            "\u001b[0;31mNameError\u001b[0m: name 'a' is not defined"
          ]
        }
      ]
    },
    {
      "cell_type": "code",
      "source": [],
      "metadata": {
        "id": "MjUF9nL9sHxP"
      },
      "execution_count": null,
      "outputs": []
    },
    {
      "cell_type": "markdown",
      "source": [
        "# 2.4 Method\n",
        "\n"
      ],
      "metadata": {
        "id": "I4JY89CEs26K"
      }
    },
    {
      "cell_type": "code",
      "source": [
        "# ZEROS\n",
        "\n",
        "z1 = np.zeros(4)\n",
        "print(z1)"
      ],
      "metadata": {
        "colab": {
          "base_uri": "https://localhost:8080/"
        },
        "id": "q0WYFjn-tKPT",
        "outputId": "527fc72e-769e-4ad2-a190-caecf725564e"
      },
      "execution_count": 92,
      "outputs": [
        {
          "output_type": "stream",
          "name": "stdout",
          "text": [
            "[0. 0. 0. 0.]\n"
          ]
        }
      ]
    },
    {
      "cell_type": "code",
      "source": [
        "z2 = np.zeros((3,2))\n",
        "print(z2)"
      ],
      "metadata": {
        "colab": {
          "base_uri": "https://localhost:8080/"
        },
        "id": "1Z-EkIjFtkv7",
        "outputId": "a9b4745d-324b-4b3f-d2a4-882ed2c497cd"
      },
      "execution_count": 48,
      "outputs": [
        {
          "output_type": "stream",
          "name": "stdout",
          "text": [
            "[[0. 0.]\n",
            " [0. 0.]\n",
            " [0. 0.]]\n"
          ]
        }
      ]
    },
    {
      "cell_type": "code",
      "source": [
        "# ONES\n",
        "o1 = np.ones(4)\n",
        "print(o1)\n",
        "\n",
        "\n",
        "o2 = np.ones((3,2))\n",
        "print(o2)"
      ],
      "metadata": {
        "colab": {
          "base_uri": "https://localhost:8080/"
        },
        "id": "wfrzrVs5t-FH",
        "outputId": "8ee7d93e-0f36-47eb-b2ae-331471aaea18"
      },
      "execution_count": 49,
      "outputs": [
        {
          "output_type": "stream",
          "name": "stdout",
          "text": [
            "[1. 1. 1. 1.]\n",
            "[[1. 1.]\n",
            " [1. 1.]\n",
            " [1. 1.]]\n"
          ]
        }
      ]
    },
    {
      "cell_type": "markdown",
      "source": [
        "Another creation options"
      ],
      "metadata": {
        "id": "fSnOBPMtvZcc"
      }
    },
    {
      "cell_type": "code",
      "source": [
        "# full\n",
        "\n",
        "f = np.full((3,2),5)\n",
        "print(f)"
      ],
      "metadata": {
        "colab": {
          "base_uri": "https://localhost:8080/"
        },
        "id": "LY8xeI2subMM",
        "outputId": "ea520b7b-ef12-44d2-dc4d-115395c90cb2"
      },
      "execution_count": 47,
      "outputs": [
        {
          "output_type": "stream",
          "name": "stdout",
          "text": [
            "[[5 5]\n",
            " [5 5]\n",
            " [5 5]]\n"
          ]
        }
      ]
    },
    {
      "cell_type": "code",
      "source": [
        "# linear sequence\n",
        "\n",
        "np.arange(6)\n",
        "np.arange(23,33)\n",
        "np.arange(23,33,0.5)"
      ],
      "metadata": {
        "colab": {
          "base_uri": "https://localhost:8080/"
        },
        "id": "1mKtu7fQvrFd",
        "outputId": "c7ec0c34-8283-47ac-bea2-256d44f21078"
      },
      "execution_count": 46,
      "outputs": [
        {
          "output_type": "execute_result",
          "data": {
            "text/plain": [
              "array([23. , 23.5, 24. , 24.5, 25. , 25.5, 26. , 26.5, 27. , 27.5, 28. ,\n",
              "       28.5, 29. , 29.5, 30. , 30.5, 31. , 31.5, 32. , 32.5])"
            ]
          },
          "metadata": {},
          "execution_count": 46
        }
      ]
    },
    {
      "cell_type": "code",
      "source": [
        "#  Linear space (dividir en partes iguales)\n",
        "\n",
        "np.linspace(15,90,6)"
      ],
      "metadata": {
        "colab": {
          "base_uri": "https://localhost:8080/"
        },
        "id": "WPs_zVG4v-Pk",
        "outputId": "204def6d-0f39-4828-a228-dff098b7f0f2"
      },
      "execution_count": 45,
      "outputs": [
        {
          "output_type": "execute_result",
          "data": {
            "text/plain": [
              "array([15., 30., 45., 60., 75., 90.])"
            ]
          },
          "metadata": {},
          "execution_count": 45
        }
      ]
    },
    {
      "cell_type": "markdown",
      "source": [
        "## 2.5. Random Numbers\n",
        "\n"
      ],
      "metadata": {
        "id": "xcB42oS8x9x_"
      }
    },
    {
      "cell_type": "code",
      "source": [
        "# a single value between 0 and 1 \n",
        "np.random.seed(123)\n",
        "np.random.rand()"
      ],
      "metadata": {
        "colab": {
          "base_uri": "https://localhost:8080/"
        },
        "id": "5elJWFRKxyFa",
        "outputId": "710ef2a4-08d0-4389-e184-7c09740bde35"
      },
      "execution_count": 44,
      "outputs": [
        {
          "output_type": "execute_result",
          "data": {
            "text/plain": [
              "0.6964691855978616"
            ]
          },
          "metadata": {},
          "execution_count": 44
        }
      ]
    },
    {
      "cell_type": "code",
      "source": [
        "# example - toss a coin\n",
        "if np.random.rand() < 0.5:\n",
        "  print('head')\n",
        "else:\n",
        "  print('tails')"
      ],
      "metadata": {
        "colab": {
          "base_uri": "https://localhost:8080/"
        },
        "id": "SJQYiSfEyc6_",
        "outputId": "45edce2b-396a-436c-c99c-805a91f83bb7"
      },
      "execution_count": 73,
      "outputs": [
        {
          "output_type": "stream",
          "name": "stdout",
          "text": [
            "tails\n"
          ]
        }
      ]
    },
    {
      "cell_type": "code",
      "source": [
        "if np.random.rand() < 0.25:\n",
        "  print('You win')\n",
        "else:\n",
        "  print('You lose')"
      ],
      "metadata": {
        "colab": {
          "base_uri": "https://localhost:8080/"
        },
        "id": "1G9z3Srh1LrQ",
        "outputId": "14bb81a7-1141-42fb-e249-357a9c62176b"
      },
      "execution_count": 90,
      "outputs": [
        {
          "output_type": "stream",
          "name": "stdout",
          "text": [
            "You win\n"
          ]
        }
      ]
    },
    {
      "cell_type": "code",
      "source": [
        "# Two heads in a row\n",
        "\n",
        "ft = np.random.rand()\n",
        "\n",
        "if ft < 0.5:\n",
        "  print('The first toss is head')\n",
        "else:\n",
        "  print('The first toss is tails')\n",
        "\n",
        "st = np.random.rand()\n",
        "\n",
        "if st < 0.5:\n",
        "  print('The second toss is head')\n",
        "else:\n",
        "  print('The second toss is tails')\n",
        "\n",
        "if ft < 0.5 and st < 0.5:\n",
        "  print('You win:3')\n",
        "else:\n",
        "  print('You lose :c')"
      ],
      "metadata": {
        "colab": {
          "base_uri": "https://localhost:8080/"
        },
        "id": "s3rTFzTt3KAw",
        "outputId": "235c01ab-04c0-43a3-9d13-62d1d8232225"
      },
      "execution_count": 127,
      "outputs": [
        {
          "output_type": "stream",
          "name": "stdout",
          "text": [
            "The first toss is head\n",
            "The second toss is head\n",
            "You win:3\n"
          ]
        }
      ]
    },
    {
      "cell_type": "code",
      "source": [],
      "metadata": {
        "id": "l3OPE4g658O3"
      },
      "execution_count": 120,
      "outputs": []
    }
  ]
}
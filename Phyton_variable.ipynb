{
  "nbformat": 4,
  "nbformat_minor": 0,
  "metadata": {
    "colab": {
      "provenance": [],
      "authorship_tag": "ABX9TyPiQfrRlo5ag2OjHdvip1Mo",
      "include_colab_link": true
    },
    "kernelspec": {
      "name": "python3",
      "display_name": "Python 3"
    },
    "language_info": {
      "name": "python"
    }
  },
  "cells": [
    {
      "cell_type": "markdown",
      "metadata": {
        "id": "view-in-github",
        "colab_type": "text"
      },
      "source": [
        "<a href=\"https://colab.research.google.com/github/YulianaVega1/DataVisualization/blob/main/Phyton_variable.ipynb\" target=\"_parent\"><img src=\"https://colab.research.google.com/assets/colab-badge.svg\" alt=\"Open In Colab\"/></a>"
      ]
    },
    {
      "cell_type": "markdown",
      "source": [
        "# **1. What is a variable?**\n",
        "\n",
        "A variable is a container, in the sense that it *stores* values."
      ],
      "metadata": {
        "id": "bXYkhb8lwy6D"
      }
    },
    {
      "cell_type": "markdown",
      "source": [
        "# **Declaration**"
      ],
      "metadata": {
        "id": "y_ANx7lSoeTt"
      }
    },
    {
      "cell_type": "code",
      "source": [
        "# Example\n",
        "\n",
        "a = 2.54\n",
        "print(a)\n",
        "round(a)"
      ],
      "metadata": {
        "colab": {
          "base_uri": "https://localhost:8080/"
        },
        "id": "VikGgEMExLHY",
        "outputId": "1f5c47d0-ee1f-46a7-b388-3bde17e197f7"
      },
      "execution_count": 1,
      "outputs": [
        {
          "output_type": "stream",
          "name": "stdout",
          "text": [
            "2.54\n"
          ]
        },
        {
          "output_type": "execute_result",
          "data": {
            "text/plain": [
              "3"
            ]
          },
          "metadata": {},
          "execution_count": 1
        }
      ]
    },
    {
      "cell_type": "code",
      "execution_count": 2,
      "metadata": {
        "colab": {
          "base_uri": "https://localhost:8080/"
        },
        "id": "n6_dBhHvwuuS",
        "outputId": "55c6f7f2-1bcb-44ee-a208-a7f45ff379c1"
      },
      "outputs": [
        {
          "output_type": "stream",
          "name": "stdout",
          "text": [
            "The aproximation of 8.5245645 with:\n",
            "decimals Results\n",
            "0 \t 9.0\n",
            "1 \t 8.5\n",
            "2 \t 8.52\n",
            "3 \t 8.525\n",
            "4 \t 8.5246\n",
            "5 \t 8.52456\n",
            "6 \t 8.524565\n",
            "7 \t 8.5245645\n"
          ]
        }
      ],
      "source": [
        "#Example\n",
        "nm=8.5245645\n",
        "pl= 0\n",
        "pf =7\n",
        "print('The aproximation of', nm, 'with:')\n",
        "print('decimals', 'Results')\n",
        "for i in range(pl,pf+1): print(i, '\\t', round(nm,i)) \n"
      ]
    },
    {
      "cell_type": "code",
      "source": [
        "# Example \n",
        "\n",
        "x = y = z = 45\n",
        "\n",
        "print(x,y,z)"
      ],
      "metadata": {
        "id": "m7HllUz_ybcF",
        "colab": {
          "base_uri": "https://localhost:8080/"
        },
        "outputId": "b0a05f9b-4870-4d55-9dcf-4bd96c1c035f"
      },
      "execution_count": 21,
      "outputs": [
        {
          "output_type": "stream",
          "name": "stdout",
          "text": [
            "45 45 45\n"
          ]
        }
      ]
    },
    {
      "cell_type": "code",
      "source": [
        "# Example remplace value\n",
        "\n",
        "z = 17"
      ],
      "metadata": {
        "id": "vuRB3Unbo_wp"
      },
      "execution_count": 15,
      "outputs": []
    },
    {
      "cell_type": "markdown",
      "source": [
        "# **3. Delete and clear**"
      ],
      "metadata": {
        "id": "3EOZIxAIpakE"
      }
    },
    {
      "cell_type": "code",
      "source": [
        "# Example delete\n",
        "\n",
        "del x, y"
      ],
      "metadata": {
        "id": "AKdChP0oph2V"
      },
      "execution_count": 20,
      "outputs": []
    },
    {
      "cell_type": "code",
      "source": [
        "# Example clear\n",
        "\n",
        "%reset"
      ],
      "metadata": {
        "colab": {
          "base_uri": "https://localhost:8080/"
        },
        "id": "ymHDU-i4qBW9",
        "outputId": "9ff2b2ba-41f4-41d4-a174-e3f2161ee5ef"
      },
      "execution_count": 22,
      "outputs": [
        {
          "name": "stdout",
          "output_type": "stream",
          "text": [
            "Once deleted, variables cannot be recovered. Proceed (y/[n])? y\n"
          ]
        }
      ]
    },
    {
      "cell_type": "markdown",
      "source": [
        "# **4. Naming"
      ],
      "metadata": {
        "id": "Gxg_1M7NqabR"
      }
    },
    {
      "cell_type": "markdown",
      "source": [
        "## 4.1 conditions and restriction"
      ],
      "metadata": {
        "id": "vbLYed_BqhIP"
      }
    },
    {
      "cell_type": "code",
      "source": [
        "# Example - always a name of variable must start with a letter\n",
        "\n",
        "age = 18\n",
        "\n"
      ],
      "metadata": {
        "id": "gkylzDgOqZli"
      },
      "execution_count": 26,
      "outputs": []
    },
    {
      "cell_type": "markdown",
      "source": [
        "## 4.2 Best practices\n",
        "\n",
        "* Case sensitive"
      ],
      "metadata": {
        "id": "w9rOfLY5rN-S"
      }
    },
    {
      "cell_type": "code",
      "source": [
        "# Example \n",
        "\n",
        "Age = 15\n",
        "\n",
        "AGE = 41\n",
        "\n",
        "# Sug: Always use lower case (minuscula)"
      ],
      "metadata": {
        "id": "8QD7VBAbrWDP"
      },
      "execution_count": 28,
      "outputs": []
    },
    {
      "cell_type": "markdown",
      "source": [
        "* Compound name"
      ],
      "metadata": {
        "id": "hxpUUSSiryC-"
      }
    },
    {
      "cell_type": "code",
      "source": [
        "#  Example \n",
        "\n",
        "price_jean = 150000\n",
        "\n"
      ],
      "metadata": {
        "id": "YXCopStXrZk2"
      },
      "execution_count": 29,
      "outputs": []
    },
    {
      "cell_type": "markdown",
      "source": [
        "# **5. Data types**\n",
        "\n",
        "## 5.1 integers\n",
        "## 5.2 Float\n"
      ],
      "metadata": {
        "id": "ZRKJiquTsaju"
      }
    },
    {
      "cell_type": "markdown",
      "source": [
        "# **Parenthesis:** A trick"
      ],
      "metadata": {
        "id": "JYSQAvmlswNk"
      }
    },
    {
      "cell_type": "code",
      "source": [
        "# Example - set up \n",
        "\n",
        "w += -3\n",
        "\n",
        "print(w)"
      ],
      "metadata": {
        "colab": {
          "base_uri": "https://localhost:8080/"
        },
        "id": "B-nUekgts7vf",
        "outputId": "61d22c60-7bb9-4419-8676-aa249dceb284"
      },
      "execution_count": 41,
      "outputs": [
        {
          "output_type": "stream",
          "name": "stdout",
          "text": [
            "2\n"
          ]
        }
      ]
    },
    {
      "cell_type": "markdown",
      "source": [
        "# 5.3 Text"
      ],
      "metadata": {
        "id": "OL4IN5OAtkVT"
      }
    },
    {
      "cell_type": "code",
      "source": [
        "# Example\n",
        "\n",
        "name = 'universidad de la salle'\n",
        "print(name)"
      ],
      "metadata": {
        "colab": {
          "base_uri": "https://localhost:8080/"
        },
        "id": "-FcAPpEDtpU1",
        "outputId": "13d35403-93bb-4c10-dace-2b10492ee8a2"
      },
      "execution_count": 45,
      "outputs": [
        {
          "output_type": "stream",
          "name": "stdout",
          "text": [
            "universidad de la salle\n"
          ]
        }
      ]
    },
    {
      "cell_type": "code",
      "source": [
        "name[0]"
      ],
      "metadata": {
        "colab": {
          "base_uri": "https://localhost:8080/",
          "height": 35
        },
        "id": "97H3W2sTuAIB",
        "outputId": "7615b15d-3139-4082-8453-26d23a983142"
      },
      "execution_count": 57,
      "outputs": [
        {
          "output_type": "execute_result",
          "data": {
            "text/plain": [
              "'u'"
            ],
            "application/vnd.google.colaboratory.intrinsic+json": {
              "type": "string"
            }
          },
          "metadata": {},
          "execution_count": 57
        }
      ]
    },
    {
      "cell_type": "code",
      "source": [
        "name[-2]"
      ],
      "metadata": {
        "colab": {
          "base_uri": "https://localhost:8080/",
          "height": 35
        },
        "id": "NGiYExvPuoAU",
        "outputId": "1d3134e6-7ab7-4319-bd5d-73ea933f306e"
      },
      "execution_count": 59,
      "outputs": [
        {
          "output_type": "execute_result",
          "data": {
            "text/plain": [
              "'l'"
            ],
            "application/vnd.google.colaboratory.intrinsic+json": {
              "type": "string"
            }
          },
          "metadata": {},
          "execution_count": 59
        }
      ]
    },
    {
      "cell_type": "code",
      "source": [
        "name[0:12]"
      ],
      "metadata": {
        "colab": {
          "base_uri": "https://localhost:8080/",
          "height": 35
        },
        "id": "MoEz_gbrusee",
        "outputId": "63146ce5-26f3-43c9-a091-2da4bf681d44"
      },
      "execution_count": 61,
      "outputs": [
        {
          "output_type": "execute_result",
          "data": {
            "text/plain": [
              "'universidad '"
            ],
            "application/vnd.google.colaboratory.intrinsic+json": {
              "type": "string"
            }
          },
          "metadata": {},
          "execution_count": 61
        }
      ]
    },
    {
      "cell_type": "code",
      "source": [
        "name.split()[0]"
      ],
      "metadata": {
        "colab": {
          "base_uri": "https://localhost:8080/",
          "height": 35
        },
        "id": "wfWGK7e3u1LF",
        "outputId": "fea249a7-a7ea-4719-81ea-b8e500c98721"
      },
      "execution_count": 63,
      "outputs": [
        {
          "output_type": "execute_result",
          "data": {
            "text/plain": [
              "'universidad'"
            ],
            "application/vnd.google.colaboratory.intrinsic+json": {
              "type": "string"
            }
          },
          "metadata": {},
          "execution_count": 63
        }
      ]
    }
  ]
}
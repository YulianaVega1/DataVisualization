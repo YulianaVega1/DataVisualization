{
  "nbformat": 4,
  "nbformat_minor": 0,
  "metadata": {
    "colab": {
      "provenance": [],
      "authorship_tag": "ABX9TyNBM1eNylI1TVUZ0yhWLWKb",
      "include_colab_link": true
    },
    "kernelspec": {
      "name": "python3",
      "display_name": "Python 3"
    },
    "language_info": {
      "name": "python"
    }
  },
  "cells": [
    {
      "cell_type": "markdown",
      "metadata": {
        "id": "view-in-github",
        "colab_type": "text"
      },
      "source": [
        "<a href=\"https://colab.research.google.com/github/YulianaVega1/DataVisualization/blob/main/Phyton_variable.ipynb\" target=\"_parent\"><img src=\"https://colab.research.google.com/assets/colab-badge.svg\" alt=\"Open In Colab\"/></a>"
      ]
    },
    {
      "cell_type": "markdown",
      "source": [
        "# **1. What is a variable?**\n",
        "\n",
        "A variable is a container, in the sense that it *stores* values."
      ],
      "metadata": {
        "id": "bXYkhb8lwy6D"
      }
    },
    {
      "cell_type": "code",
      "source": [
        "# Example\n",
        "\n",
        "a = 2.54\n",
        "print(a)\n",
        "round(a)"
      ],
      "metadata": {
        "colab": {
          "base_uri": "https://localhost:8080/"
        },
        "id": "VikGgEMExLHY",
        "outputId": "28a662cd-b821-4999-fcf0-80ef78bc770d"
      },
      "execution_count": 6,
      "outputs": [
        {
          "output_type": "stream",
          "name": "stdout",
          "text": [
            "2.54\n"
          ]
        },
        {
          "output_type": "execute_result",
          "data": {
            "text/plain": [
              "3"
            ]
          },
          "metadata": {},
          "execution_count": 6
        }
      ]
    },
    {
      "cell_type": "code",
      "execution_count": 16,
      "metadata": {
        "colab": {
          "base_uri": "https://localhost:8080/"
        },
        "id": "n6_dBhHvwuuS",
        "outputId": "4ed3833b-da72-4fdc-fab7-bc17a74cb9ff"
      },
      "outputs": [
        {
          "output_type": "stream",
          "name": "stdout",
          "text": [
            "The aproximation of 8.5245645 with:\n",
            "decimals Results\n",
            "0 \t 9.0\n",
            "1 \t 8.5\n",
            "2 \t 8.52\n",
            "3 \t 8.525\n",
            "4 \t 8.5246\n",
            "5 \t 8.52456\n",
            "6 \t 8.524565\n",
            "7 \t 8.5245645\n"
          ]
        }
      ],
      "source": [
        "#Example\n",
        "nm=8.5245645\n",
        "pl= 0\n",
        "pf =7\n",
        "print('The aproximation of', nm, 'with:')\n",
        "print('decimals', 'Results')\n",
        "for i in range(pl,pf+1): print(i, '\\t', round(nm,i)) \n"
      ]
    },
    {
      "cell_type": "code",
      "source": [],
      "metadata": {
        "id": "m7HllUz_ybcF"
      },
      "execution_count": null,
      "outputs": []
    }
  ]
}
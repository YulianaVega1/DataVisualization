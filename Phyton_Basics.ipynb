{
  "nbformat": 4,
  "nbformat_minor": 0,
  "metadata": {
    "colab": {
      "provenance": [],
      "authorship_tag": "ABX9TyPwR2DcyYEkoe7ntukUTBDD",
      "include_colab_link": true
    },
    "kernelspec": {
      "name": "python3",
      "display_name": "Python 3"
    },
    "language_info": {
      "name": "python"
    }
  },
  "cells": [
    {
      "cell_type": "markdown",
      "metadata": {
        "id": "view-in-github",
        "colab_type": "text"
      },
      "source": [
        "<a href=\"https://colab.research.google.com/github/YulianaVega1/DataVisualization/blob/main/Phyton_Basics.ipynb\" target=\"_parent\"><img src=\"https://colab.research.google.com/assets/colab-badge.svg\" alt=\"Open In Colab\"/></a>"
      ]
    },
    {
      "cell_type": "markdown",
      "source": [
        "# Introduction\n",
        "\n",
        "Here, in this file, we are going to *code*\n",
        "\n",
        "We are going to understand Phyton, how it works, and some tricks."
      ],
      "metadata": {
        "id": "VedqY3AhkC22"
      }
    },
    {
      "cell_type": "markdown",
      "source": [
        "# 1. What is Phyton?\n",
        "\n",
        "It was created in 1991 and it is a **general-purposue programming language**\n",
        "\n",
        "This means that Phyton is used for:\n",
        "\n",
        "* Data analysis\n",
        "* Automating task\n",
        "* Machine learning\n",
        "* Data visualization\n",
        "* Optimization\n",
        "* Web development\n",
        "* User interfaces creation\n",
        "* Create another sofware\n",
        "* Create videogames\n",
        "\n",
        "The world runs on Phyton, C ++, Java and HTML / CSS and R?\n",
        "\n"
      ],
      "metadata": {
        "id": "KsApEMBakZFr"
      }
    },
    {
      "cell_type": "markdown",
      "source": [
        "# 2. Why Phyton?\n",
        "\n",
        "The main reasons:\n",
        "\n",
        "* It's very simple\n",
        "\n",
        "* Focus\n",
        "\n",
        "* Open-source: It's free. \n",
        "\n",
        "* Cross-platform.\n",
        "\n",
        "* Extensive libraries"
      ],
      "metadata": {
        "id": "hLYND8gRls69"
      }
    },
    {
      "cell_type": "markdown",
      "source": [
        "# 3. Getting Started\n",
        "\n",
        "## 3.1 Phyton as a calculator"
      ],
      "metadata": {
        "id": "YOcsB1IvmxhT"
      }
    },
    {
      "cell_type": "code",
      "source": [
        "# Addition\n",
        "2 + 3"
      ],
      "metadata": {
        "colab": {
          "base_uri": "https://localhost:8080/"
        },
        "id": "q1VAGFzknJk0",
        "outputId": "c18c026d-e7e9-4414-8840-98dde508a014"
      },
      "execution_count": null,
      "outputs": [
        {
          "output_type": "execute_result",
          "data": {
            "text/plain": [
              "5"
            ]
          },
          "metadata": {},
          "execution_count": 11
        }
      ]
    },
    {
      "cell_type": "code",
      "source": [
        "# Subtraction\n",
        "\n",
        "5 - 4"
      ],
      "metadata": {
        "colab": {
          "base_uri": "https://localhost:8080/"
        },
        "id": "WBvQKjq8n-uD",
        "outputId": "eb3f25cc-0364-4e60-94ac-06ad684eb2c5"
      },
      "execution_count": null,
      "outputs": [
        {
          "output_type": "execute_result",
          "data": {
            "text/plain": [
              "1"
            ]
          },
          "metadata": {},
          "execution_count": 12
        }
      ]
    },
    {
      "cell_type": "code",
      "source": [
        "# Multiplication \n",
        "\n",
        "3 * 4"
      ],
      "metadata": {
        "colab": {
          "base_uri": "https://localhost:8080/"
        },
        "id": "O10oLt4koLMb",
        "outputId": "a7e42e65-ee27-4195-c94c-c12ccef3ecb0"
      },
      "execution_count": null,
      "outputs": [
        {
          "output_type": "execute_result",
          "data": {
            "text/plain": [
              "12"
            ]
          },
          "metadata": {},
          "execution_count": 13
        }
      ]
    },
    {
      "cell_type": "code",
      "source": [
        "# Division\n",
        "\n",
        "4 / 2"
      ],
      "metadata": {
        "colab": {
          "base_uri": "https://localhost:8080/"
        },
        "id": "0zJhraj-oUMD",
        "outputId": "cd2816bb-6dc5-41fd-afbf-89b5998372b0"
      },
      "execution_count": null,
      "outputs": [
        {
          "output_type": "execute_result",
          "data": {
            "text/plain": [
              "2.0"
            ]
          },
          "metadata": {},
          "execution_count": 17
        }
      ]
    },
    {
      "cell_type": "code",
      "source": [
        "# Integer Division\n",
        "10 // 3"
      ],
      "metadata": {
        "colab": {
          "base_uri": "https://localhost:8080/"
        },
        "id": "q-c7Hkd_ooj7",
        "outputId": "c32d9c99-3a4b-462f-fd68-17272dcf46d5"
      },
      "execution_count": null,
      "outputs": [
        {
          "output_type": "execute_result",
          "data": {
            "text/plain": [
              "3"
            ]
          },
          "metadata": {},
          "execution_count": 19
        }
      ]
    },
    {
      "cell_type": "code",
      "source": [],
      "metadata": {
        "id": "pFmpiZ3pouXm"
      },
      "execution_count": null,
      "outputs": []
    }
  ]
}
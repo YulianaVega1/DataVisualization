{
  "nbformat": 4,
  "nbformat_minor": 0,
  "metadata": {
    "colab": {
      "provenance": [],
      "authorship_tag": "ABX9TyMpnvCPCTdQblc+qSGbwp3r",
      "include_colab_link": true
    },
    "kernelspec": {
      "name": "python3",
      "display_name": "Python 3"
    },
    "language_info": {
      "name": "python"
    }
  },
  "cells": [
    {
      "cell_type": "markdown",
      "metadata": {
        "id": "view-in-github",
        "colab_type": "text"
      },
      "source": [
        "<a href=\"https://colab.research.google.com/github/YulianaVega1/DataVisualization/blob/main/Phyton_Basics.ipynb\" target=\"_parent\"><img src=\"https://colab.research.google.com/assets/colab-badge.svg\" alt=\"Open In Colab\"/></a>"
      ]
    },
    {
      "cell_type": "markdown",
      "source": [
        "# Introduction\n",
        "\n",
        "Here, in this file, we are going to *code*\n",
        "\n",
        "We are going to understand Phyton, how it works, and some tricks."
      ],
      "metadata": {
        "id": "VedqY3AhkC22"
      }
    },
    {
      "cell_type": "markdown",
      "source": [
        "# 1. What is Phyton?\n",
        "\n",
        "It was created in 1991 and it is a **general-purposue programming language**\n",
        "\n",
        "This means that Phyton is used for:\n",
        "\n",
        "* Data analysis\n",
        "* Automating task\n",
        "* Machine learning\n",
        "* Data visualization\n",
        "* Optimization\n",
        "* Web development\n",
        "* User interfaces creation\n",
        "* Create another sofware\n",
        "* Create videogames\n",
        "\n",
        "The world runs on Phyton, C ++, Java and HTML / CSS and R?\n",
        "\n"
      ],
      "metadata": {
        "id": "KsApEMBakZFr"
      }
    },
    {
      "cell_type": "markdown",
      "source": [
        "# 2. Why Phyton?\n",
        "\n",
        "The main reasons:\n",
        "\n",
        "* It's very simple\n",
        "\n",
        "* Focus\n",
        "\n",
        "* Open-source: It's free. \n",
        "\n",
        "* Cross-platform.\n",
        "\n",
        "* Extensive libraries"
      ],
      "metadata": {
        "id": "hLYND8gRls69"
      }
    },
    {
      "cell_type": "markdown",
      "source": [
        "# 3. Getting Started\n",
        "\n",
        "## 3.1 Phyton as a calculator"
      ],
      "metadata": {
        "id": "YOcsB1IvmxhT"
      }
    },
    {
      "cell_type": "code",
      "source": [
        "# Addition\n",
        "2 + 3"
      ],
      "metadata": {
        "colab": {
          "base_uri": "https://localhost:8080/"
        },
        "id": "q1VAGFzknJk0",
        "outputId": "c18c026d-e7e9-4414-8840-98dde508a014"
      },
      "execution_count": null,
      "outputs": [
        {
          "output_type": "execute_result",
          "data": {
            "text/plain": [
              "5"
            ]
          },
          "metadata": {},
          "execution_count": 11
        }
      ]
    },
    {
      "cell_type": "code",
      "source": [
        "# Subtraction\n",
        "\n",
        "5 - 4"
      ],
      "metadata": {
        "colab": {
          "base_uri": "https://localhost:8080/"
        },
        "id": "WBvQKjq8n-uD",
        "outputId": "eb3f25cc-0364-4e60-94ac-06ad684eb2c5"
      },
      "execution_count": null,
      "outputs": [
        {
          "output_type": "execute_result",
          "data": {
            "text/plain": [
              "1"
            ]
          },
          "metadata": {},
          "execution_count": 12
        }
      ]
    },
    {
      "cell_type": "code",
      "source": [
        "# Multiplication \n",
        "\n",
        "3 * 4"
      ],
      "metadata": {
        "colab": {
          "base_uri": "https://localhost:8080/"
        },
        "id": "O10oLt4koLMb",
        "outputId": "a7e42e65-ee27-4195-c94c-c12ccef3ecb0"
      },
      "execution_count": null,
      "outputs": [
        {
          "output_type": "execute_result",
          "data": {
            "text/plain": [
              "12"
            ]
          },
          "metadata": {},
          "execution_count": 13
        }
      ]
    },
    {
      "cell_type": "code",
      "source": [
        "# Division\n",
        "\n",
        "4 / 2"
      ],
      "metadata": {
        "colab": {
          "base_uri": "https://localhost:8080/"
        },
        "id": "0zJhraj-oUMD",
        "outputId": "cd2816bb-6dc5-41fd-afbf-89b5998372b0"
      },
      "execution_count": null,
      "outputs": [
        {
          "output_type": "execute_result",
          "data": {
            "text/plain": [
              "2.0"
            ]
          },
          "metadata": {},
          "execution_count": 17
        }
      ]
    },
    {
      "cell_type": "code",
      "source": [
        "# Integer Division\n",
        "10 // 3"
      ],
      "metadata": {
        "colab": {
          "base_uri": "https://localhost:8080/"
        },
        "id": "q-c7Hkd_ooj7",
        "outputId": "c32d9c99-3a4b-462f-fd68-17272dcf46d5"
      },
      "execution_count": null,
      "outputs": [
        {
          "output_type": "execute_result",
          "data": {
            "text/plain": [
              "3"
            ]
          },
          "metadata": {},
          "execution_count": 19
        }
      ]
    },
    {
      "cell_type": "code",
      "source": [
        "# Exponential\n",
        "\n",
        "2**3"
      ],
      "metadata": {
        "colab": {
          "base_uri": "https://localhost:8080/"
        },
        "id": "nFECLF41hgtd",
        "outputId": "419ebf4a-df2f-4eca-c173-19e7fde8b335"
      },
      "execution_count": null,
      "outputs": [
        {
          "output_type": "execute_result",
          "data": {
            "text/plain": [
              "8"
            ]
          },
          "metadata": {},
          "execution_count": 1
        }
      ]
    },
    {
      "cell_type": "markdown",
      "source": [
        "## 3.2 Composite operations and Parenthesis \n",
        "\n",
        "Operation precedence"
      ],
      "metadata": {
        "id": "jKF-cLRaiDeb"
      }
    },
    {
      "cell_type": "code",
      "source": [
        "# Example\n",
        "\n",
        "2 + 3 * 4"
      ],
      "metadata": {
        "colab": {
          "base_uri": "https://localhost:8080/"
        },
        "id": "6_DDNqpvidoZ",
        "outputId": "dc9d4066-68ce-48b1-a3cb-df8e1acd30eb"
      },
      "execution_count": null,
      "outputs": [
        {
          "output_type": "execute_result",
          "data": {
            "text/plain": [
              "14"
            ]
          },
          "metadata": {},
          "execution_count": 2
        }
      ]
    },
    {
      "cell_type": "markdown",
      "source": [
        "You can change the operator precedence using **Parenthesis**"
      ],
      "metadata": {
        "id": "zgGerLz0il5v"
      }
    },
    {
      "cell_type": "code",
      "source": [
        "# Example\n",
        "(2 + 3) * 4"
      ],
      "metadata": {
        "colab": {
          "base_uri": "https://localhost:8080/"
        },
        "id": "_OMx8KiFivlw",
        "outputId": "755b6067-20ed-4911-975a-954331b5532c"
      },
      "execution_count": null,
      "outputs": [
        {
          "output_type": "execute_result",
          "data": {
            "text/plain": [
              "20"
            ]
          },
          "metadata": {},
          "execution_count": 3
        }
      ]
    },
    {
      "cell_type": "markdown",
      "source": [
        "## Integers and Real numbers\n",
        "\n"
      ],
      "metadata": {
        "id": "VDqpMSUIi62o"
      }
    },
    {
      "cell_type": "code",
      "source": [
        "# Integers (with no decimal position)\n",
        "\n",
        "type(26)"
      ],
      "metadata": {
        "colab": {
          "base_uri": "https://localhost:8080/"
        },
        "id": "b8mr3EByj390",
        "outputId": "98ede5a7-5714-4c7b-a7fa-8e4874347d6d"
      },
      "execution_count": null,
      "outputs": [
        {
          "output_type": "execute_result",
          "data": {
            "text/plain": [
              "int"
            ]
          },
          "metadata": {},
          "execution_count": 4
        }
      ]
    },
    {
      "cell_type": "code",
      "source": [
        "# Real Number (Decimal position)\n",
        "\n",
        "type(26.0)"
      ],
      "metadata": {
        "colab": {
          "base_uri": "https://localhost:8080/"
        },
        "id": "-NTgNhPVkMMq",
        "outputId": "8db0b0ba-b444-4d2c-b5c0-24ed3d3a7753"
      },
      "execution_count": null,
      "outputs": [
        {
          "output_type": "execute_result",
          "data": {
            "text/plain": [
              "float"
            ]
          },
          "metadata": {},
          "execution_count": 7
        }
      ]
    },
    {
      "cell_type": "code",
      "source": [
        "# Examples\n",
        "\n",
        "# Find out if the next expression are int or float\n",
        "\n",
        "2 + 3.0\n",
        "\n",
        "2.5*7\n",
        "\n",
        "4.0/2"
      ],
      "metadata": {
        "id": "TG7nPa-IkgAB"
      },
      "execution_count": null,
      "outputs": []
    },
    {
      "cell_type": "code",
      "source": [
        "type(2+3.0)"
      ],
      "metadata": {
        "colab": {
          "base_uri": "https://localhost:8080/"
        },
        "id": "4RtR2Y38lGrw",
        "outputId": "e5e12957-d35c-400b-828d-f1e0eb0753aa"
      },
      "execution_count": null,
      "outputs": [
        {
          "output_type": "execute_result",
          "data": {
            "text/plain": [
              "float"
            ]
          },
          "metadata": {},
          "execution_count": 9
        }
      ]
    },
    {
      "cell_type": "code",
      "source": [
        "type(2.5*7)"
      ],
      "metadata": {
        "colab": {
          "base_uri": "https://localhost:8080/"
        },
        "id": "38A85Gu8lSmi",
        "outputId": "030f4fbe-161c-4717-86f6-4c8490d421da"
      },
      "execution_count": null,
      "outputs": [
        {
          "output_type": "execute_result",
          "data": {
            "text/plain": [
              "float"
            ]
          },
          "metadata": {},
          "execution_count": 10
        }
      ]
    },
    {
      "cell_type": "code",
      "source": [
        "type(4.0/2)"
      ],
      "metadata": {
        "colab": {
          "base_uri": "https://localhost:8080/"
        },
        "id": "w5KdqQDKlZQb",
        "outputId": "951f5c49-68c3-4452-b5d2-43a2450ff087"
      },
      "execution_count": null,
      "outputs": [
        {
          "output_type": "execute_result",
          "data": {
            "text/plain": [
              "float"
            ]
          },
          "metadata": {},
          "execution_count": 11
        }
      ]
    },
    {
      "cell_type": "markdown",
      "source": [
        "## Scientific notation\n",
        "\n"
      ],
      "metadata": {
        "id": "yuynaeoVlYvY"
      }
    },
    {
      "cell_type": "code",
      "source": [
        "# Example \n",
        "\n",
        "5e1"
      ],
      "metadata": {
        "colab": {
          "base_uri": "https://localhost:8080/"
        },
        "id": "9fqwwTOsn0h-",
        "outputId": "99f9fac6-d05a-45ab-f2ea-c8c5595b2a0b"
      },
      "execution_count": null,
      "outputs": [
        {
          "output_type": "execute_result",
          "data": {
            "text/plain": [
              "50.0"
            ]
          },
          "metadata": {},
          "execution_count": 18
        }
      ]
    },
    {
      "cell_type": "code",
      "source": [
        "6e-2"
      ],
      "metadata": {
        "colab": {
          "base_uri": "https://localhost:8080/"
        },
        "id": "Kn7GKvivoGh2",
        "outputId": "5477c8c8-5f65-4851-a0c7-b5244eb62d51"
      },
      "execution_count": null,
      "outputs": [
        {
          "output_type": "execute_result",
          "data": {
            "text/plain": [
              "0.06"
            ]
          },
          "metadata": {},
          "execution_count": 19
        }
      ]
    },
    {
      "cell_type": "code",
      "source": [
        "type(6e2)"
      ],
      "metadata": {
        "colab": {
          "base_uri": "https://localhost:8080/"
        },
        "id": "V3yzmSkDoWkX",
        "outputId": "2c689f1c-5742-49d1-9738-5e718254710d"
      },
      "execution_count": null,
      "outputs": [
        {
          "output_type": "execute_result",
          "data": {
            "text/plain": [
              "float"
            ]
          },
          "metadata": {},
          "execution_count": 20
        }
      ]
    },
    {
      "cell_type": "code",
      "source": [
        "# Practice \n",
        "\n",
        "# Write 1million in scientific notation\n",
        "# What is the result of 3e0.2"
      ],
      "metadata": {
        "id": "9M--gK8Molnl"
      },
      "execution_count": null,
      "outputs": []
    },
    {
      "cell_type": "code",
      "source": [
        "1e6"
      ],
      "metadata": {
        "colab": {
          "base_uri": "https://localhost:8080/"
        },
        "id": "yK-b0lVLo6V1",
        "outputId": "c79755db-5914-4034-b721-1407e4490c26"
      },
      "execution_count": null,
      "outputs": [
        {
          "output_type": "execute_result",
          "data": {
            "text/plain": [
              "1000000.0"
            ]
          },
          "metadata": {},
          "execution_count": 23
        }
      ]
    },
    {
      "cell_type": "markdown",
      "source": [
        "## Transformation\n",
        "\n",
        "You can change the type() of a number, or you can force a type() of a number "
      ],
      "metadata": {
        "id": "yfMXimGKqKjY"
      }
    },
    {
      "cell_type": "code",
      "source": [
        "# Example\n",
        "\n",
        "float(6)"
      ],
      "metadata": {
        "colab": {
          "base_uri": "https://localhost:8080/"
        },
        "id": "whtDn4PIqeF9",
        "outputId": "9ff8c20f-abb3-4d8e-d2ba-8706b37009d7"
      },
      "execution_count": null,
      "outputs": [
        {
          "output_type": "execute_result",
          "data": {
            "text/plain": [
              "6.0"
            ]
          },
          "metadata": {},
          "execution_count": 27
        }
      ]
    },
    {
      "cell_type": "code",
      "source": [
        "int(3.33333)"
      ],
      "metadata": {
        "colab": {
          "base_uri": "https://localhost:8080/"
        },
        "id": "wAi8v-qAqlgH",
        "outputId": "da18f1fc-1918-49d7-e749-007fd2e63e8c"
      },
      "execution_count": null,
      "outputs": [
        {
          "output_type": "execute_result",
          "data": {
            "text/plain": [
              "3"
            ]
          },
          "metadata": {},
          "execution_count": 28
        }
      ]
    },
    {
      "cell_type": "markdown",
      "source": [
        "# Print"
      ],
      "metadata": {
        "id": "5AcPvPM7f4JP"
      }
    },
    {
      "cell_type": "code",
      "source": [
        "# Example with text\n",
        "\n",
        "print(' Hello world')"
      ],
      "metadata": {
        "colab": {
          "base_uri": "https://localhost:8080/"
        },
        "id": "7oXo20-UhMVF",
        "outputId": "34fcb17f-c37a-4308-c9ee-4bae1828c0c2"
      },
      "execution_count": null,
      "outputs": [
        {
          "output_type": "stream",
          "name": "stdout",
          "text": [
            " Hello world\n"
          ]
        }
      ]
    },
    {
      "cell_type": "code",
      "source": [
        "print('First name: Yuliana', 'Second name: Lizeth')\n",
        "\n",
        "print('First name: Yuliana', '\\tSecond name: Lizeth')\n",
        "\n",
        "print('First name: Yuliana', '\\nSecond name: Lizeth')"
      ],
      "metadata": {
        "colab": {
          "base_uri": "https://localhost:8080/"
        },
        "id": "tdgg8o4phiM5",
        "outputId": "dece8268-2641-4e7a-b31b-6125e4f87408"
      },
      "execution_count": null,
      "outputs": [
        {
          "output_type": "stream",
          "name": "stdout",
          "text": [
            "First name: Yuliana Second name: Lizeth\n",
            "First name: Yuliana \tSecond name: Lizeth\n",
            "First name: Yuliana \n",
            "Second name: Lizeth\n"
          ]
        }
      ]
    },
    {
      "cell_type": "code",
      "source": [
        "# Example text and numbers\n",
        "\n",
        "print('My lucky number is:', 5)"
      ],
      "metadata": {
        "colab": {
          "base_uri": "https://localhost:8080/"
        },
        "id": "QcrMaSY9i1J4",
        "outputId": "24409ee3-e0fc-437b-d31c-f20814fef3f3"
      },
      "execution_count": null,
      "outputs": [
        {
          "output_type": "stream",
          "name": "stdout",
          "text": [
            "My lucky number is: 5\n"
          ]
        }
      ]
    },
    {
      "cell_type": "code",
      "source": [],
      "metadata": {
        "id": "6AvUnwSniPTX"
      },
      "execution_count": null,
      "outputs": []
    },
    {
      "cell_type": "markdown",
      "source": [
        "## **Round**\n",
        "\n",
        "It will tell us to control the decimal positions."
      ],
      "metadata": {
        "id": "eDIlvJa3jK8N"
      }
    },
    {
      "cell_type": "code",
      "source": [
        "# Example\n",
        "\n",
        "# Consider 8,5245645\n",
        "\n",
        "# Let's use round\n",
        "\n",
        "round(8.5245645,0)"
      ],
      "metadata": {
        "colab": {
          "base_uri": "https://localhost:8080/"
        },
        "id": "YkWlDb14jjsO",
        "outputId": "fd4632b5-16d7-4608-f483-5d12a45efe7b"
      },
      "execution_count": null,
      "outputs": [
        {
          "output_type": "execute_result",
          "data": {
            "text/plain": [
              "9.0"
            ]
          },
          "metadata": {},
          "execution_count": 26
        }
      ]
    },
    {
      "cell_type": "code",
      "source": [
        "print('When I use round with the number', 8.5245645, 'the result is:')\n",
        "round(8.5245645,0)"
      ],
      "metadata": {
        "colab": {
          "base_uri": "https://localhost:8080/"
        },
        "id": "EQJ0jJjykR3T",
        "outputId": "e1f0c364-f2b6-415d-8edf-779c4e6d10b4"
      },
      "execution_count": null,
      "outputs": [
        {
          "output_type": "stream",
          "name": "stdout",
          "text": [
            "When I use round with the number 8.5245645 the result is:\n"
          ]
        },
        {
          "output_type": "execute_result",
          "data": {
            "text/plain": [
              "9.0"
            ]
          },
          "metadata": {},
          "execution_count": 35
        }
      ]
    },
    {
      "cell_type": "code",
      "source": [
        "print('When I use round with the number', 8.5245645, 'the result is:')\n",
        "round(8.5245645,)"
      ],
      "metadata": {
        "colab": {
          "base_uri": "https://localhost:8080/"
        },
        "id": "XOkKgLNvk8UN",
        "outputId": "2877f3ef-70c7-495c-e240-c9fbee318759"
      },
      "execution_count": null,
      "outputs": [
        {
          "output_type": "stream",
          "name": "stdout",
          "text": [
            "When I use round with the number 8.5245645 the result is:\n"
          ]
        },
        {
          "output_type": "execute_result",
          "data": {
            "text/plain": [
              "8.5"
            ]
          },
          "metadata": {},
          "execution_count": 37
        }
      ]
    },
    {
      "cell_type": "code",
      "source": [
        "print('The aproximation of', 8.5245645, 'with:')\n",
        "print('decimals', 'Results')\n",
        "print(0 ,'\\t', round(8.5245645,0))\n",
        "print(1,'\\t ', round(8.5245645,1))\n"
      ],
      "metadata": {
        "colab": {
          "base_uri": "https://localhost:8080/"
        },
        "id": "um79VXWKmdeZ",
        "outputId": "edef5b7c-8065-49a5-e778-c024f1f2e7cd"
      },
      "execution_count": null,
      "outputs": [
        {
          "output_type": "stream",
          "name": "stdout",
          "text": [
            "The aproximation of 8.5245645 with:\n",
            "decimals Results\n",
            "0 \t 9.0\n",
            "1 \t  8.5\n"
          ]
        }
      ]
    },
    {
      "cell_type": "code",
      "source": [
        "print('The aproximation of', 8.5245645, 'with:')\n",
        "print('decimals', 'Results')\n",
        "for i in range(0,8): print(i, '\\t', round(8.45645,i)) \n"
      ],
      "metadata": {
        "id": "0LZ-ZNYPpPq0",
        "colab": {
          "base_uri": "https://localhost:8080/"
        },
        "outputId": "14176b18-40c5-4ad6-9cfa-1a5793a2c956"
      },
      "execution_count": 3,
      "outputs": [
        {
          "output_type": "stream",
          "name": "stdout",
          "text": [
            "The aproximation of 8.5245645 with:\n",
            "decimals Results\n",
            "0 \t 8.0\n",
            "1 \t 8.5\n",
            "2 \t 8.46\n",
            "3 \t 8.456\n",
            "4 \t 8.4565\n",
            "5 \t 8.45645\n",
            "6 \t 8.45645\n",
            "7 \t 8.45645\n"
          ]
        }
      ]
    },
    {
      "cell_type": "code",
      "source": [
        "print('The first', 100, 'multiples of', 2, 'are:')\n",
        "for i in range(1,101): print(i, '\\t', 2*i)\n"
      ],
      "metadata": {
        "id": "Ro5G1U-Mt-kk",
        "colab": {
          "base_uri": "https://localhost:8080/"
        },
        "outputId": "03d4dffe-03e3-47dc-eaf3-a31a2a15da0d"
      },
      "execution_count": 7,
      "outputs": [
        {
          "output_type": "stream",
          "name": "stdout",
          "text": [
            "The first 100 multiples of 2 are:\n",
            "1 \t 2\n",
            "2 \t 4\n",
            "3 \t 6\n",
            "4 \t 8\n",
            "5 \t 10\n",
            "6 \t 12\n",
            "7 \t 14\n",
            "8 \t 16\n",
            "9 \t 18\n",
            "10 \t 20\n",
            "11 \t 22\n",
            "12 \t 24\n",
            "13 \t 26\n",
            "14 \t 28\n",
            "15 \t 30\n",
            "16 \t 32\n",
            "17 \t 34\n",
            "18 \t 36\n",
            "19 \t 38\n",
            "20 \t 40\n",
            "21 \t 42\n",
            "22 \t 44\n",
            "23 \t 46\n",
            "24 \t 48\n",
            "25 \t 50\n",
            "26 \t 52\n",
            "27 \t 54\n",
            "28 \t 56\n",
            "29 \t 58\n",
            "30 \t 60\n",
            "31 \t 62\n",
            "32 \t 64\n",
            "33 \t 66\n",
            "34 \t 68\n",
            "35 \t 70\n",
            "36 \t 72\n",
            "37 \t 74\n",
            "38 \t 76\n",
            "39 \t 78\n",
            "40 \t 80\n",
            "41 \t 82\n",
            "42 \t 84\n",
            "43 \t 86\n",
            "44 \t 88\n",
            "45 \t 90\n",
            "46 \t 92\n",
            "47 \t 94\n",
            "48 \t 96\n",
            "49 \t 98\n",
            "50 \t 100\n",
            "51 \t 102\n",
            "52 \t 104\n",
            "53 \t 106\n",
            "54 \t 108\n",
            "55 \t 110\n",
            "56 \t 112\n",
            "57 \t 114\n",
            "58 \t 116\n",
            "59 \t 118\n",
            "60 \t 120\n",
            "61 \t 122\n",
            "62 \t 124\n",
            "63 \t 126\n",
            "64 \t 128\n",
            "65 \t 130\n",
            "66 \t 132\n",
            "67 \t 134\n",
            "68 \t 136\n",
            "69 \t 138\n",
            "70 \t 140\n",
            "71 \t 142\n",
            "72 \t 144\n",
            "73 \t 146\n",
            "74 \t 148\n",
            "75 \t 150\n",
            "76 \t 152\n",
            "77 \t 154\n",
            "78 \t 156\n",
            "79 \t 158\n",
            "80 \t 160\n",
            "81 \t 162\n",
            "82 \t 164\n",
            "83 \t 166\n",
            "84 \t 168\n",
            "85 \t 170\n",
            "86 \t 172\n",
            "87 \t 174\n",
            "88 \t 176\n",
            "89 \t 178\n",
            "90 \t 180\n",
            "91 \t 182\n",
            "92 \t 184\n",
            "93 \t 186\n",
            "94 \t 188\n",
            "95 \t 190\n",
            "96 \t 192\n",
            "97 \t 194\n",
            "98 \t 196\n",
            "99 \t 198\n",
            "100 \t 200\n"
          ]
        }
      ]
    },
    {
      "cell_type": "code",
      "source": [],
      "metadata": {
        "id": "VAWMZ6oyu689"
      },
      "execution_count": 1,
      "outputs": []
    }
  ]
}
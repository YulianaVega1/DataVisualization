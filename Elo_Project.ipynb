{
  "nbformat": 4,
  "nbformat_minor": 0,
  "metadata": {
    "colab": {
      "provenance": [],
      "collapsed_sections": [
        "U4GZm_1WJLg4",
        "veGDogjfxYpm"
      ],
      "mount_file_id": "1rNpvnnki_IYoKkmtQlHOoNq9Ek3yyZhB",
      "authorship_tag": "ABX9TyPQ5YhnSqTD1ZIO50t5mcgv",
      "include_colab_link": true
    },
    "kernelspec": {
      "name": "python3",
      "display_name": "Python 3"
    },
    "language_info": {
      "name": "python"
    }
  },
  "cells": [
    {
      "cell_type": "markdown",
      "metadata": {
        "id": "view-in-github",
        "colab_type": "text"
      },
      "source": [
        "<a href=\"https://colab.research.google.com/github/YulianaVega1/DataVisualization/blob/main/Elo_Project.ipynb\" target=\"_parent\"><img src=\"https://colab.research.google.com/assets/colab-badge.svg\" alt=\"Open In Colab\"/></a>"
      ]
    },
    {
      "cell_type": "markdown",
      "source": [
        "# **League of Legends elo comparison between regions**"
      ],
      "metadata": {
        "id": "l-WGxZAeI50y"
      }
    },
    {
      "cell_type": "markdown",
      "source": [
        "* Yuliana Vega Caicedo - 64181054\n",
        "\n",
        "* Data Visualization 2023-1"
      ],
      "metadata": {
        "id": "xwCELg9jI-lx"
      }
    },
    {
      "cell_type": "markdown",
      "source": [
        "## **1. Variable:**"
      ],
      "metadata": {
        "id": "8YADRjU6H23Z"
      }
    },
    {
      "cell_type": "markdown",
      "source": [
        "### *1.1 Name and description*\n",
        "\n",
        "\n"
      ],
      "metadata": {
        "id": "U4GZm_1WJLg4"
      }
    },
    {
      "cell_type": "markdown",
      "source": [
        "This project is called \"*League of legends elo comparison between region*\", it is based on comparing the competitive levels -also known as elo- between seven regions worldwide. It's important to say that Elo is classified in nine different competitive leagues, which are, from lowest to highest, the following:\n",
        "\n",
        "- Iron\n",
        "- Bronze\n",
        "- Silver\n",
        "- Gold\n",
        "- Platinum\n",
        "- Diamond\n",
        "- Master\n",
        "- GrandMaster\n",
        "- Challenger\n",
        "\n",
        "In addition to this, the leagues are subdivided from IV to I, with IV being the lowest and I being the highest. However, Master, Grandmaster and Challenger leagues do not have subdivisions.\n",
        "\n",
        "\n",
        "**Example**\n",
        "\n",
        "| League      | Subdivision       |\n",
        "|-------------|-------------------|\n",
        "| Iron        | IV - III - II - I |\n",
        "| Bronze      | IV - III - II - I |\n",
        "| Silver      | IV - III - II - I |\n",
        "| Gold        | IV - III - II - I |\n",
        "| Platinum    | IV - III - II - I |\n",
        "| Diamond     | IV - III - II - I |\n",
        "| Master      |       UNIQUE      |\n",
        "| GrandMaster |       UNIQUE      |\n",
        "| Challenger  |       UNIQUE      |"
      ],
      "metadata": {
        "id": "tXSQcxWIxUNX"
      }
    },
    {
      "cell_type": "markdown",
      "source": [
        "### *1.2 Period or dates. Frequency. Individuals.*"
      ],
      "metadata": {
        "id": "veGDogjfxYpm"
      }
    },
    {
      "cell_type": "markdown",
      "source": [
        "To carry out the project, the data obtained on March 3, 2023 for each selected region will be used. This date was chosen since there is no historical record of the data.\n",
        "\n",
        "In addition, the selected individuals are seven regions that were selected as they are considered the most popular among players, these are the following:\n",
        "\n",
        "- Japan\n",
        "- Korea\n",
        "- Lan (Latin America north)\n",
        "- Las (Latin America south )\n",
        "- Na (North America)\n",
        "- Euw (Europe West)\n",
        "- Eune (Europe Nordic & East)\n",
        "\n",
        "\n"
      ],
      "metadata": {
        "id": "oe4Z_cohx4Kd"
      }
    },
    {
      "cell_type": "markdown",
      "source": [
        "### 1.3 *Sources (with links).*"
      ],
      "metadata": {
        "id": "XECiPU94RUqt"
      }
    },
    {
      "cell_type": "markdown",
      "source": [
        "The information was obtained from the OP.GG website, who is in charge of publishing different statistics about the game, about the various champions and about each player.\n",
        "\n",
        "Link: [OP.GG Statistics](https://https://www.op.gg/statistics/tiers)\n",
        "\n",
        "Also, the information obtained by region will be shown below:\n",
        "\n",
        "\n"
      ],
      "metadata": {
        "id": "3V92HbYHRe0u"
      }
    },
    {
      "cell_type": "markdown",
      "source": [
        "#### **Japan**\n",
        "\n",
        "**Statistics**\n",
        "\n",
        "[![Jp-statistics.png](https://i.postimg.cc/vZy9cSYJ/Jp-statistics.png)](https://postimg.cc/8jysY4r4)\n",
        "\n",
        "**Graph**\n",
        "\n",
        "[![Jp-graph.png](https://i.postimg.cc/KjVN67tZ/Jp-graph.png)](https://postimg.cc/y3mc9Zf5)\n",
        "\n",
        "**Distribution**\n",
        "\n",
        "[![Jp-distribution.png](https://i.postimg.cc/k4gvDYcJ/Jp-distribution.png)](https://postimg.cc/8Fx60H99)"
      ],
      "metadata": {
        "id": "6KjvH3VsXN6s"
      }
    },
    {
      "cell_type": "markdown",
      "source": [
        "#### **Korea**\n",
        "\n",
        "**Statistics**\n",
        "\n",
        "[![Kr-statistics.png](https://i.postimg.cc/MTH3gpgm/Kr-statistics.png)](https://postimg.cc/ygqTZs1D)\n",
        "\n",
        "**Graph**\n",
        "\n",
        "[![Kr-graph.png](https://i.postimg.cc/mgRsJ7j3/Kr-graph.png)](https://postimg.cc/PP698pBN)\n",
        "\n",
        "\n",
        "**Distribution**\n",
        "\n",
        "[![Kr-distribution.png](https://i.postimg.cc/W4YcdCvS/Kr-distribution.png)](https://postimg.cc/bGnBM6d2)"
      ],
      "metadata": {
        "id": "P_armx87bXs0"
      }
    },
    {
      "cell_type": "markdown",
      "source": [
        "#### **Euw**\n",
        "\n",
        "**Statistics**\n",
        "\n",
        "[![Euw-statistics.png](https://i.postimg.cc/BQf9P2rW/Euw-statistics.png)](https://postimg.cc/kDshkRMw)\n",
        "\n",
        "**Graph**\n",
        "\n",
        "[![Euw-graph.png](https://i.postimg.cc/YS9JBRWF/Euw-graph.png)](https://postimg.cc/pmw0DDkV)\n",
        "\n",
        "**Distribution**\n",
        "\n",
        "[![Euw-distribution.png](https://i.postimg.cc/NF1nkPW3/Euw-distribution.png)](https://postimg.cc/Wq1S2Sp8)\n",
        "\n"
      ],
      "metadata": {
        "id": "uobZWFYWcV-z"
      }
    },
    {
      "cell_type": "markdown",
      "source": [
        "#### **Eune**\n",
        "\n",
        "**Statistics**\n",
        "\n",
        "[![Eune-statistics.png](https://i.postimg.cc/pTKCw5q8/Eune-statistics.png)](https://postimg.cc/JD4jJ0w4)\n",
        "\n",
        "**Graph** \n",
        "\n",
        "[![Eune-graph.png](https://i.postimg.cc/NfsDnMT9/Eune-graph.png)](https://postimg.cc/qgF2hp14)\n",
        "\n",
        "**Distribution**\n",
        "\n",
        "[![Eune-distribution.png](https://i.postimg.cc/8zqhTPFb/Eune-distribution.png)](https://postimg.cc/RWL3RmL3)"
      ],
      "metadata": {
        "id": "Tjbludbuc0f8"
      }
    },
    {
      "cell_type": "markdown",
      "source": [
        "#### **Lan**\n",
        "\n",
        "**Statistics**\n",
        "\n",
        "[![Lan-statistics.png](https://i.postimg.cc/c4CYY8wm/Lan-statistics.png)](https://postimg.cc/w7K7YMWy)\n",
        "\n",
        "**Graph**\n",
        "\n",
        "[![Lan-graph.png](https://i.postimg.cc/dVdhmR18/Lan-graph.png)](https://postimg.cc/VJfszCX6)\n",
        "\n",
        "**Distribution**\n",
        "\n",
        "[![Lan-distribution.png](https://i.postimg.cc/W3ptvQ7n/Lan-distribution.png)](https://postimg.cc/p97PQc4h)\n",
        "\n"
      ],
      "metadata": {
        "id": "h3ska3I2dQIL"
      }
    },
    {
      "cell_type": "markdown",
      "source": [
        "#### **Las**\n",
        "\n",
        "**Statistics**\n",
        "\n",
        "[![Las-statistics.png](https://i.postimg.cc/MpkTTcDX/Las-statistics.png)](https://postimg.cc/zVj52G41)\n",
        "\n",
        "**Graph**\n",
        "\n",
        "[![Las-graph.png](https://i.postimg.cc/fRrhL1ZC/Las-graph.png)](https://postimg.cc/QF1zY4FK)\n",
        "\n",
        "**Distribution**\n",
        "\n",
        "[![Las-distribution.png](https://i.postimg.cc/tCvctPfC/Las-distribution.png)](https://postimg.cc/XpFxnZ4T)"
      ],
      "metadata": {
        "id": "5v46qIwndtbT"
      }
    },
    {
      "cell_type": "markdown",
      "source": [
        "#### **NA**\n",
        "\n",
        "**Statistics**\n",
        "\n",
        "[![Na-statistics.png](https://i.postimg.cc/8C4MMdKZ/Na-statistics.png)](https://postimg.cc/Mccn8B8B)\n",
        "\n",
        "**Graph**\n",
        "\n",
        "[![Na-graph.png](https://i.postimg.cc/7Pd73Z9r/Na-graph.png)](https://postimg.cc/c67rZZPF)\n",
        "\n",
        "**Distribution**\n",
        "\n",
        "[![Na-distribution.png](https://i.postimg.cc/k5gy5Xq6/Na-distribution.png)](https://postimg.cc/18bFCSgs)"
      ],
      "metadata": {
        "id": "Ofz4fWNzeLTs"
      }
    },
    {
      "cell_type": "markdown",
      "source": [
        "## **2. Goal of the DV**"
      ],
      "metadata": {
        "id": "8oMBWN6ze-Nc"
      }
    },
    {
      "cell_type": "markdown",
      "source": [
        "### *2.1 Story*\n",
        "\n",
        "The intention of this project is to show the difference at the competitive level between the selected regions, showing which regions have more players in the higher leagues and more players in the lower leagues. In addition to this, compare what is the percentage of players in each league."
      ],
      "metadata": {
        "id": "LISCPphcmROQ"
      }
    },
    {
      "cell_type": "markdown",
      "source": [
        "### *2.2  Audience*\n",
        "\n",
        "The audience for this project is the gamer population that plays \"League of Legends\" and wants to know the percentage of players in each league, but also wants to see the comparison between the regions and their competitive levels. Also, for those who want to know which is the league with the most players in each selected region."
      ],
      "metadata": {
        "id": "BwM-dJ5ImgEg"
      }
    },
    {
      "cell_type": "markdown",
      "source": [
        "### *2.3 Justify the DV type*\n",
        "\n",
        "The visualization style that will be used in this project will be bar graphs, since it is more comfortable to interpret the differences that exist between the regions depending on each league."
      ],
      "metadata": {
        "id": "Mwgu_1Ej46G2"
      }
    },
    {
      "cell_type": "markdown",
      "source": [],
      "metadata": {
        "id": "g0mWZ5xdD9Ld"
      }
    }
  ]
}
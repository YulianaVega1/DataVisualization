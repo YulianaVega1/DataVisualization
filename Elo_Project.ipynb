{
  "nbformat": 4,
  "nbformat_minor": 0,
  "metadata": {
    "colab": {
      "provenance": [],
      "mount_file_id": "1rNpvnnki_IYoKkmtQlHOoNq9Ek3yyZhB",
      "authorship_tag": "ABX9TyMaHFChrmah1iGy77mWhmwo",
      "include_colab_link": true
    },
    "kernelspec": {
      "name": "python3",
      "display_name": "Python 3"
    },
    "language_info": {
      "name": "python"
    }
  },
  "cells": [
    {
      "cell_type": "markdown",
      "metadata": {
        "id": "view-in-github",
        "colab_type": "text"
      },
      "source": [
        "<a href=\"https://colab.research.google.com/github/YulianaVega1/DataVisualization/blob/main/Elo_Project.ipynb\" target=\"_parent\"><img src=\"https://colab.research.google.com/assets/colab-badge.svg\" alt=\"Open In Colab\"/></a>"
      ]
    },
    {
      "cell_type": "markdown",
      "source": [
        "# **League of Legends elo comparison between regions**"
      ],
      "metadata": {
        "id": "l-WGxZAeI50y"
      }
    },
    {
      "cell_type": "markdown",
      "source": [
        "* Yuliana Vega Caicedo - 64181054\n",
        "\n",
        "* Data Visualization 2023"
      ],
      "metadata": {
        "id": "xwCELg9jI-lx"
      }
    },
    {
      "cell_type": "markdown",
      "source": [
        "## *1. Variable:*"
      ],
      "metadata": {
        "id": "8YADRjU6H23Z"
      }
    },
    {
      "cell_type": "markdown",
      "source": [
        "### *1.1 Name and description*\n",
        "\n",
        "\n"
      ],
      "metadata": {
        "id": "U4GZm_1WJLg4"
      }
    },
    {
      "cell_type": "markdown",
      "source": [
        "This project is called \"*League of legends elo comparison between region*\", it is based on comparing the competitive levels -also known as elo- between seven regions worldwide. It's important to say that Elo is classified in nine different competitive leagues, which are, from lowest to highest, the following:\n",
        "\n",
        "- Iron\n",
        "- Bronze\n",
        "- Silver\n",
        "- Gold\n",
        "- Platinum\n",
        "- Diamond\n",
        "- Master\n",
        "- GrandMaster\n",
        "- Challenger\n",
        "\n",
        "In addition to this, the leagues are subdivided from IV to I, with IV being the lowest and I being the highest. However, Master, Grandmaster and Challenger leagues do not have subdivisions.\n",
        "\n",
        "\n",
        "**Example**\n",
        "\n",
        "| League      | Subdivision       |\n",
        "|-------------|-------------------|\n",
        "| Iron        | IV - III - II - I |\n",
        "| Bronze      | IV - III - II - I |\n",
        "| Silver      | IV - III - II - I |\n",
        "| Gold        | IV - III - II - I |\n",
        "| Platinum    | IV - III - II - I |\n",
        "| Diamond     | IV - III - II - I |\n",
        "| Master      |       UNIQUE      |\n",
        "| GrandMaster |       UNIQUE      |\n",
        "| Challenger  |       UNIQUE      |"
      ],
      "metadata": {
        "id": "tXSQcxWIxUNX"
      }
    },
    {
      "cell_type": "markdown",
      "source": [
        "### *1.2 Period or dates. Frequency. Individuals.*"
      ],
      "metadata": {
        "id": "veGDogjfxYpm"
      }
    },
    {
      "cell_type": "markdown",
      "source": [
        "To carry out the project, the data obtained on March 3, 2023 for each selected region will be used. This date was chosen since there is no historical record of the data.\n",
        "\n",
        "In addition, the selected individuals are seven regions that were selected as they are considered the most popular among players, these are the following:\n",
        "\n",
        "- Japan\n",
        "- Korea\n",
        "- Lan (Latin America north)\n",
        "- Las (Latin America south )\n",
        "- Na (North America)\n",
        "- Euw (Europe West)\n",
        "- Eune (Europe Nordic & East)\n",
        "\n",
        "\n"
      ],
      "metadata": {
        "id": "oe4Z_cohx4Kd"
      }
    },
    {
      "cell_type": "markdown",
      "source": [
        "### 1.3 *Sources (with links).*"
      ],
      "metadata": {
        "id": "XECiPU94RUqt"
      }
    },
    {
      "cell_type": "markdown",
      "source": [
        "The information was obtained from the OP.GG website, who is in charge of publishing different statistics about the game, about the various champions and about each player.\n",
        "\n",
        "Link: [OP.GG Statistics](https://https://www.op.gg/statistics/tiers)\n",
        "\n",
        "Also, the information obtained by region will be shown below:\n",
        "\n",
        "\n"
      ],
      "metadata": {
        "id": "3V92HbYHRe0u"
      }
    },
    {
      "cell_type": "markdown",
      "source": [
        "#### **Japan**\n",
        "\n",
        "**Statistics**\n",
        "\n",
        "[![Jp-statistics.png](https://i.postimg.cc/vZy9cSYJ/Jp-statistics.png)](https://postimg.cc/8jysY4r4)\n",
        "\n",
        "**Graph**\n",
        "\n",
        "[![Jp-graph.png](https://i.postimg.cc/KjVN67tZ/Jp-graph.png)](https://postimg.cc/y3mc9Zf5)\n",
        "\n",
        "**Distribution**\n",
        "\n",
        "[![Jp-distribution.png](https://i.postimg.cc/k4gvDYcJ/Jp-distribution.png)](https://postimg.cc/8Fx60H99)"
      ],
      "metadata": {
        "id": "6KjvH3VsXN6s"
      }
    },
    {
      "cell_type": "markdown",
      "source": [],
      "metadata": {
        "id": "P_armx87bXs0"
      }
    }
  ]
}
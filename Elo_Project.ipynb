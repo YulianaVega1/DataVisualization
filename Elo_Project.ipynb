{
  "nbformat": 4,
  "nbformat_minor": 0,
  "metadata": {
    "colab": {
      "provenance": [],
      "authorship_tag": "ABX9TyO10+VfvhAavhLB2y7XseZC",
      "include_colab_link": true
    },
    "kernelspec": {
      "name": "python3",
      "display_name": "Python 3"
    },
    "language_info": {
      "name": "python"
    }
  },
  "cells": [
    {
      "cell_type": "markdown",
      "metadata": {
        "id": "view-in-github",
        "colab_type": "text"
      },
      "source": [
        "<a href=\"https://colab.research.google.com/github/YulianaVega1/DataVisualization/blob/main/Elo_Project.ipynb\" target=\"_parent\"><img src=\"https://colab.research.google.com/assets/colab-badge.svg\" alt=\"Open In Colab\"/></a>"
      ]
    },
    {
      "cell_type": "markdown",
      "source": [
        "# **League of Legends elo comparison between regions**"
      ],
      "metadata": {
        "id": "l-WGxZAeI50y"
      }
    },
    {
      "cell_type": "markdown",
      "source": [
        "* Yuliana Vega Caicedo - 64181054\n",
        "\n",
        "* Data Visualization 2023"
      ],
      "metadata": {
        "id": "xwCELg9jI-lx"
      }
    },
    {
      "cell_type": "markdown",
      "source": [
        "## *1. Variable:*"
      ],
      "metadata": {
        "id": "8YADRjU6H23Z"
      }
    },
    {
      "cell_type": "markdown",
      "source": [
        "### *1.1 Name and description*\n",
        "\n",
        "\n"
      ],
      "metadata": {
        "id": "U4GZm_1WJLg4"
      }
    },
    {
      "cell_type": "markdown",
      "source": [
        "This project is called \"*League of legends elo comparison between region*\", it is based on comparing the competitive levels -also known as elo- between seven regions that are:\n",
        "\n",
        "- Japan\n",
        "- Korea\n",
        "- Lan (Latin America north)\n",
        "- Las (Latin America south )\n",
        "- Na (North America)\n",
        "- Euw (Europe West)\n",
        "- Eune (Europe Nordic & East)\n",
        "\n",
        "It's important to say that Elo is classified in nine different competitive leagues, which are, from lowest to highest, the following:\n",
        "\n",
        "- Iron\n",
        "- Bronze\n",
        "- Silver\n",
        "- Gold\n",
        "- Platinum\n",
        "- Diamond\n",
        "- Master\n",
        "- GrandMaster\n",
        "- Challenger\n",
        "\n",
        "In addition to this, the leagues are subdivided from IV to I, with IV being the lowest and I being the highest. However, Master, Grandmaster and Challenger leagues do not have subdivisions.\n",
        "\n",
        "\n",
        "**Example**\n",
        "\n",
        "| League      | Subdivision       |\n",
        "|-------------|-------------------|\n",
        "| Iron        | IV - III - II - I |\n",
        "| Bronze      | IV - III - II - I |\n",
        "| Silver      | IV - III - II - I |\n",
        "| Gold        | IV - III - II - I |\n",
        "| Platinum    | IV - III - II - I |\n",
        "| Diamond     | IV - III - II - I |\n",
        "| Master      |       UNIQUE      |\n",
        "| GrandMaster |       UNIQUE      |\n",
        "| Challenger  |       UNIQUE      |"
      ],
      "metadata": {
        "id": "tXSQcxWIxUNX"
      }
    },
    {
      "cell_type": "markdown",
      "source": [
        "### *1.2 Period or dates. Frequency. Individuals.*"
      ],
      "metadata": {
        "id": "veGDogjfxYpm"
      }
    },
    {
      "cell_type": "markdown",
      "source": [],
      "metadata": {
        "id": "oe4Z_cohx4Kd"
      }
    }
  ]
}
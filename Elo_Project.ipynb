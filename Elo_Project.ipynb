{
  "nbformat": 4,
  "nbformat_minor": 0,
  "metadata": {
    "colab": {
      "provenance": [],
      "collapsed_sections": [
        "U4GZm_1WJLg4",
        "veGDogjfxYpm"
      ],
      "mount_file_id": "1rNpvnnki_IYoKkmtQlHOoNq9Ek3yyZhB",
      "authorship_tag": "ABX9TyPsXhfBzHRSpsUZWwot+ZJE",
      "include_colab_link": true
    },
    "kernelspec": {
      "name": "python3",
      "display_name": "Python 3"
    },
    "language_info": {
      "name": "python"
    }
  },
  "cells": [
    {
      "cell_type": "markdown",
      "metadata": {
        "id": "view-in-github",
        "colab_type": "text"
      },
      "source": [
        "<a href=\"https://colab.research.google.com/github/YulianaVega1/DataVisualization/blob/main/Elo_Project.ipynb\" target=\"_parent\"><img src=\"https://colab.research.google.com/assets/colab-badge.svg\" alt=\"Open In Colab\"/></a>"
      ]
    },
    {
      "cell_type": "markdown",
      "source": [
        "# **League of Legends elo comparison between regions**"
      ],
      "metadata": {
        "id": "l-WGxZAeI50y"
      }
    },
    {
      "cell_type": "markdown",
      "source": [
        "* Yuliana Vega Caicedo - 64181054\n",
        "\n",
        "* Data Visualization 2023-1"
      ],
      "metadata": {
        "id": "xwCELg9jI-lx"
      }
    },
    {
      "cell_type": "markdown",
      "source": [
        "## **1. Variable:**"
      ],
      "metadata": {
        "id": "8YADRjU6H23Z"
      }
    },
    {
      "cell_type": "markdown",
      "source": [
        "### *1.1 Name and description*\n",
        "\n",
        "\n"
      ],
      "metadata": {
        "id": "U4GZm_1WJLg4"
      }
    },
    {
      "cell_type": "markdown",
      "source": [
        "This project is called \"*League of legends elo comparison between region*\", it is based on comparing the competitive levels -also known as elo- between seven regions worldwide. It's important to say that Elo is classified in nine different competitive leagues, which are, from lowest to highest, the following:\n",
        "\n",
        "- Iron\n",
        "- Bronze\n",
        "- Silver\n",
        "- Gold\n",
        "- Platinum\n",
        "- Diamond\n",
        "- Master\n",
        "- GrandMaster\n",
        "- Challenger\n",
        "\n",
        "In addition to this, the leagues are subdivided from IV to I, with IV being the lowest and I being the highest. However, Master, Grandmaster and Challenger leagues do not have subdivisions.\n",
        "\n",
        "\n",
        "**Example**\n",
        "\n",
        "| League      | Subdivision       |\n",
        "|-------------|-------------------|\n",
        "| Iron        | IV - III - II - I |\n",
        "| Bronze      | IV - III - II - I |\n",
        "| Silver      | IV - III - II - I |\n",
        "| Gold        | IV - III - II - I |\n",
        "| Platinum    | IV - III - II - I |\n",
        "| Diamond     | IV - III - II - I |\n",
        "| Master      |       UNIQUE      |\n",
        "| GrandMaster |       UNIQUE      |\n",
        "| Challenger  |       UNIQUE      |"
      ],
      "metadata": {
        "id": "tXSQcxWIxUNX"
      }
    },
    {
      "cell_type": "markdown",
      "source": [
        "### *1.2 Period or dates. Frequency. Individuals.*"
      ],
      "metadata": {
        "id": "veGDogjfxYpm"
      }
    },
    {
      "cell_type": "markdown",
      "source": [
        "To carry out the project, the data obtained on March 3, 2023 for each selected region will be used. This date was chosen since there is no historical record of the data.\n",
        "\n",
        "In addition, the selected individuals are seven regions that were selected as they are considered the most popular among players, these are the following:\n",
        "\n",
        "- Japan\n",
        "- Korea\n",
        "- Lan (Latin America north)\n",
        "- Las (Latin America south )\n",
        "- Na (North America)\n",
        "- Euw (Europe West)\n",
        "- Eune (Europe Nordic & East)\n",
        "\n",
        "\n"
      ],
      "metadata": {
        "id": "oe4Z_cohx4Kd"
      }
    },
    {
      "cell_type": "markdown",
      "source": [
        "### 1.3 *Sources (with links).*"
      ],
      "metadata": {
        "id": "XECiPU94RUqt"
      }
    },
    {
      "cell_type": "markdown",
      "source": [
        "The information was obtained from the OP.GG website, who is in charge of publishing different statistics about the game, about the various champions and about each player.\n",
        "\n",
        "Link: [OP.GG Statistics](https://https://www.op.gg/statistics/tiers)\n",
        "\n",
        "Also, the information obtained by region will be shown below:\n",
        "\n",
        "\n"
      ],
      "metadata": {
        "id": "3V92HbYHRe0u"
      }
    },
    {
      "cell_type": "markdown",
      "source": [
        "#### **Japan**\n",
        "\n",
        "**Statistics**\n",
        "\n",
        "[![Jp-statistics.png](https://i.postimg.cc/vZy9cSYJ/Jp-statistics.png)](https://postimg.cc/8jysY4r4)"
      ],
      "metadata": {
        "id": "6KjvH3VsXN6s"
      }
    },
    {
      "cell_type": "markdown",
      "source": [
        "#### **Korea**\n",
        "\n",
        "**Statistics**\n",
        "\n",
        "[![Kr-statistics.png](https://i.postimg.cc/MTH3gpgm/Kr-statistics.png)](https://postimg.cc/ygqTZs1D)"
      ],
      "metadata": {
        "id": "P_armx87bXs0"
      }
    },
    {
      "cell_type": "markdown",
      "source": [
        "#### **Euw**\n",
        "\n",
        "**Statistics**\n",
        "\n",
        "[![Euw-statistics.png](https://i.postimg.cc/BQf9P2rW/Euw-statistics.png)](https://postimg.cc/kDshkRMw)\n",
        "\n",
        "\n"
      ],
      "metadata": {
        "id": "uobZWFYWcV-z"
      }
    },
    {
      "cell_type": "markdown",
      "source": [
        "#### **Eune**\n",
        "\n",
        "**Statistics**\n",
        "\n",
        "[![Eune-statistics.png](https://i.postimg.cc/pTKCw5q8/Eune-statistics.png)](https://postimg.cc/JD4jJ0w4)\n"
      ],
      "metadata": {
        "id": "Tjbludbuc0f8"
      }
    },
    {
      "cell_type": "markdown",
      "source": [
        "#### **Lan**\n",
        "\n",
        "**Statistics**\n",
        "\n",
        "[![Lan-statistics.png](https://i.postimg.cc/c4CYY8wm/Lan-statistics.png)](https://postimg.cc/w7K7YMWy)\n",
        "\n",
        "\n"
      ],
      "metadata": {
        "id": "h3ska3I2dQIL"
      }
    },
    {
      "cell_type": "markdown",
      "source": [
        "#### **Las**\n",
        "\n",
        "**Statistics**\n",
        "\n",
        "[![Las-statistics.png](https://i.postimg.cc/MpkTTcDX/Las-statistics.png)](https://postimg.cc/zVj52G41)\n"
      ],
      "metadata": {
        "id": "5v46qIwndtbT"
      }
    },
    {
      "cell_type": "markdown",
      "source": [
        "#### **NA**\n",
        "\n",
        "**Statistics**\n",
        "\n",
        "[![Na-statistics.png](https://i.postimg.cc/8C4MMdKZ/Na-statistics.png)](https://postimg.cc/Mccn8B8B)\n"
      ],
      "metadata": {
        "id": "Ofz4fWNzeLTs"
      }
    },
    {
      "cell_type": "markdown",
      "source": [
        "## **2. Goal of the DV**"
      ],
      "metadata": {
        "id": "8oMBWN6ze-Nc"
      }
    },
    {
      "cell_type": "markdown",
      "source": [
        "### *2.1 Story*\n",
        "\n",
        "The intention of this project is to show the difference at the competitive level between the selected regions, showing which regions have more players in the higher leagues and more players in the lower leagues. In addition to this, compare what is the percentage of players in each league."
      ],
      "metadata": {
        "id": "LISCPphcmROQ"
      }
    },
    {
      "cell_type": "markdown",
      "source": [
        "### *2.2  Audience*\n",
        "\n",
        "The audience for this project is the gamer population that plays \"League of Legends\" and wants to know the percentage of players in each league, but also wants to see the comparison between the regions and their competitive levels. Also, for those who want to know which is the league with the most players in each selected region."
      ],
      "metadata": {
        "id": "BwM-dJ5ImgEg"
      }
    },
    {
      "cell_type": "markdown",
      "source": [
        "### *2.3 Justify the DV type*\n",
        "\n",
        "The visualization style that will be used in this project will be bar graphs, since it is more comfortable to interpret the differences that exist between the regions depending on each league."
      ],
      "metadata": {
        "id": "Mwgu_1Ej46G2"
      }
    },
    {
      "cell_type": "markdown",
      "source": [
        "## **3. Examples**\n"
      ],
      "metadata": {
        "id": "g0mWZ5xdD9Ld"
      }
    },
    {
      "cell_type": "markdown",
      "source": [
        "### *Example 1*\n",
        "\n",
        "[![Rocket-graph.jpg](https://i.postimg.cc/NMSd2b4y/Rocket-graph.jpg)](https://postimg.cc/62VrDrFw)\n",
        "\n",
        "The \"Rocket League\" video game uses a league system very similar to the one used in \"League of Legends\", so its objective is to show which league has the most players.\n",
        "\n",
        "The audience to whom it would be directed would be towards players who seek to know more about the game's leagues and want to know how many players are in each of them.\n",
        "\n",
        "To visualize the data of the leagues, the bar graphs will be used, since you can easily see how many people are in each league.\n",
        "\n",
        "This example shows the way in which you want to show the information of the project when comparing the leagues of the video game, it is done with bar graphs according to the data that you have.\n",
        "\n",
        "### *Example 2*\n",
        "\n",
        "[![Milk.jpg](https://i.postimg.cc/Cxb47XTY/Milk.jpg)](https://postimg.cc/sMDSDng0)\n",
        "\n",
        "The objective of knowing how much they pay in certain countries to the milk producer to determine where it is more profitable to produce it.\n",
        "\n",
        "The public of this topic are the milk producers worldwide since this way they can compare the benefits that are obtained in different countries\n",
        "\n",
        "The style used to present the data is through bar graphs that compare the prices offered in each country.\n",
        "\n",
        "This example serves to identify how the data of each country can be compared according to the figures obtained in the database."
      ],
      "metadata": {
        "id": "73Bqt4yDzS3_"
      }
    }
  ]
}
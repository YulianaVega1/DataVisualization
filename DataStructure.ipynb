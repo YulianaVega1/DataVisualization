{
  "nbformat": 4,
  "nbformat_minor": 0,
  "metadata": {
    "colab": {
      "provenance": [],
      "authorship_tag": "ABX9TyNw+R1UKzbI5xhR7rYOaaXD",
      "include_colab_link": true
    },
    "kernelspec": {
      "name": "python3",
      "display_name": "Python 3"
    },
    "language_info": {
      "name": "python"
    }
  },
  "cells": [
    {
      "cell_type": "markdown",
      "metadata": {
        "id": "view-in-github",
        "colab_type": "text"
      },
      "source": [
        "<a href=\"https://colab.research.google.com/github/YulianaVega1/DataVisualization/blob/main/DataStructure.ipynb\" target=\"_parent\"><img src=\"https://colab.research.google.com/assets/colab-badge.svg\" alt=\"Open In Colab\"/></a>"
      ]
    },
    {
      "cell_type": "markdown",
      "source": [
        "# 2.3 Sciling\n",
        "\n",
        "To access one or several elements of the object."
      ],
      "metadata": {
        "id": "fox-1tzXt4r-"
      }
    },
    {
      "cell_type": "code",
      "execution_count": 13,
      "metadata": {
        "colab": {
          "base_uri": "https://localhost:8080/",
          "height": 200
        },
        "id": "2KxbuAp1trpd",
        "outputId": "442d4a63-4f9e-42be-b5db-9ba1d784b1ac"
      },
      "outputs": [
        {
          "output_type": "error",
          "ename": "NameError",
          "evalue": "ignored",
          "traceback": [
            "\u001b[0;31m---------------------------------------------------------------------------\u001b[0m",
            "\u001b[0;31mNameError\u001b[0m                                 Traceback (most recent call last)",
            "\u001b[0;32m<ipython-input-13-2d1378c56988>\u001b[0m in \u001b[0;36m<module>\u001b[0;34m\u001b[0m\n\u001b[1;32m      3\u001b[0m \u001b[0;34m\u001b[0m\u001b[0m\n\u001b[1;32m      4\u001b[0m \u001b[0;31m## Column vector\u001b[0m\u001b[0;34m\u001b[0m\u001b[0;34m\u001b[0m\u001b[0m\n\u001b[0;32m----> 5\u001b[0;31m \u001b[0mprint\u001b[0m\u001b[0;34m(\u001b[0m\u001b[0ma\u001b[0m\u001b[0;34m[\u001b[0m\u001b[0;36m0\u001b[0m\u001b[0;34m,\u001b[0m\u001b[0;36m0\u001b[0m\u001b[0;34m]\u001b[0m\u001b[0;34m)\u001b[0m\u001b[0;34m\u001b[0m\u001b[0;34m\u001b[0m\u001b[0m\n\u001b[0m",
            "\u001b[0;31mNameError\u001b[0m: name 'a' is not defined"
          ]
        }
      ],
      "source": [
        "# extract the first element\n",
        "import numpy as np\n",
        "\n",
        "## Column vector\n",
        "print(a[0,0])"
      ]
    },
    {
      "cell_type": "code",
      "source": [
        "print(b[0,0])\n",
        "\n",
        "## Matrix \n",
        "print(M[0,0])"
      ],
      "metadata": {
        "id": "j6OSuVxyt-QV"
      },
      "execution_count": null,
      "outputs": []
    },
    {
      "cell_type": "code",
      "source": [
        "# extract the last element\n",
        "print(a[-1,0])\n",
        "print(b[0,-1])\n",
        "print(M[-1,-1])"
      ],
      "metadata": {
        "id": "F7KTFKoAuAEd"
      },
      "execution_count": null,
      "outputs": []
    },
    {
      "cell_type": "code",
      "source": [
        "# Extract a subset\n",
        "\n",
        "## Column vector\n",
        "print(a[0:2])\n",
        "\n",
        "## Row Vector\n",
        "\n",
        "print(b[0,0:2])\n",
        "\n",
        "## matrix\n",
        "print(M[0:2,0:2])"
      ],
      "metadata": {
        "id": "EUBN3hjIuBvW"
      },
      "execution_count": null,
      "outputs": []
    },
    {
      "cell_type": "markdown",
      "source": [
        "# 2.4 Method"
      ],
      "metadata": {
        "id": "OZHD_7B0uFPF"
      }
    },
    {
      "cell_type": "code",
      "source": [
        "# ZEROS\n",
        "\n",
        "z1 = np.zeros(4)\n",
        "print(z1)"
      ],
      "metadata": {
        "colab": {
          "base_uri": "https://localhost:8080/"
        },
        "id": "rYjnmSqYuHBO",
        "outputId": "54ea578d-7605-4769-9bdc-05d47cea034d"
      },
      "execution_count": 14,
      "outputs": [
        {
          "output_type": "stream",
          "name": "stdout",
          "text": [
            "[0. 0. 0. 0.]\n"
          ]
        }
      ]
    },
    {
      "cell_type": "code",
      "source": [
        "z2 = np.zeros((3,2))\n",
        "print(z2)"
      ],
      "metadata": {
        "colab": {
          "base_uri": "https://localhost:8080/"
        },
        "id": "5noaDg49uJTO",
        "outputId": "1a9e4090-9a2b-4745-a6cb-ba89a231c0c6"
      },
      "execution_count": 15,
      "outputs": [
        {
          "output_type": "stream",
          "name": "stdout",
          "text": [
            "[[0. 0.]\n",
            " [0. 0.]\n",
            " [0. 0.]]\n"
          ]
        }
      ]
    },
    {
      "cell_type": "code",
      "source": [
        "# ONES\n",
        "o1 = np.ones(4)\n",
        "print(o1)\n",
        "\n",
        "\n",
        "o2 = np.ones((3,2))\n",
        "print(o2)"
      ],
      "metadata": {
        "id": "q-gT7ArQuK5f"
      },
      "execution_count": null,
      "outputs": []
    },
    {
      "cell_type": "markdown",
      "source": [
        "Another creation options"
      ],
      "metadata": {
        "id": "Xb0aVGRsuMde"
      }
    },
    {
      "cell_type": "code",
      "source": [
        "# full\n",
        "\n",
        "f = np.full((3,2),5)\n",
        "print(f)"
      ],
      "metadata": {
        "id": "8kC1SZwGuOhV"
      },
      "execution_count": null,
      "outputs": []
    },
    {
      "cell_type": "code",
      "source": [
        "# linear sequence\n",
        "\n",
        "np.arange(6)\n",
        "np.arange(23,33)\n",
        "np.arange(23,33,0.5)"
      ],
      "metadata": {
        "id": "T2mXtS37uQbm"
      },
      "execution_count": null,
      "outputs": []
    },
    {
      "cell_type": "code",
      "source": [
        "#  Linear space (dividir en partes iguales)\n",
        "\n",
        "np.linspace(15,90,6)"
      ],
      "metadata": {
        "id": "fpZv6V9euR7W"
      },
      "execution_count": null,
      "outputs": []
    },
    {
      "cell_type": "markdown",
      "source": [
        "## 2.5. Random Numbers\n"
      ],
      "metadata": {
        "id": "cplH0wHtuXjI"
      }
    },
    {
      "cell_type": "code",
      "source": [
        "# a single value between 0 and 1 \n",
        "np.random.seed(123)\n",
        "np.random.rand()"
      ],
      "metadata": {
        "id": "7MroU0VYuZ3e"
      },
      "execution_count": null,
      "outputs": []
    },
    {
      "cell_type": "code",
      "source": [
        "# example - toss a coin\n",
        "if np.random.rand() < 0.5:\n",
        "  print('head')\n",
        "else:\n",
        "  print('tails')"
      ],
      "metadata": {
        "colab": {
          "base_uri": "https://localhost:8080/"
        },
        "id": "96yXbQT1ubR1",
        "outputId": "deccdd39-0fe5-4495-ec7e-9686cffd8245"
      },
      "execution_count": 16,
      "outputs": [
        {
          "output_type": "stream",
          "name": "stdout",
          "text": [
            "tails\n"
          ]
        }
      ]
    },
    {
      "cell_type": "code",
      "source": [
        "if np.random.rand() < 0.25:\n",
        "  print('You win')\n",
        "else:\n",
        "  print('You lose')"
      ],
      "metadata": {
        "id": "ZTnaPE55xsx3"
      },
      "execution_count": null,
      "outputs": []
    },
    {
      "cell_type": "code",
      "source": [
        "# Two heads in a row\n",
        "\n",
        "ft = np.random.rand()\n",
        "\n",
        "if ft < 0.5:\n",
        "  print('The first toss is head')\n",
        "else:\n",
        "  print('The first toss is tails')\n",
        "\n",
        "st = np.random.rand()\n",
        "\n",
        "if st < 0.5:\n",
        "  print('The second toss is head')\n",
        "else:\n",
        "  print('The second toss is tails')\n",
        "\n",
        "if ft < 0.5 and st < 0.5:\n",
        "  print('You win:3')\n",
        "else:\n",
        "  print('You lose :c')"
      ],
      "metadata": {
        "colab": {
          "base_uri": "https://localhost:8080/"
        },
        "id": "JLKG6DQOxwG_",
        "outputId": "1907dd43-aa97-4c13-d252-6a3ffd01cf0c"
      },
      "execution_count": 25,
      "outputs": [
        {
          "output_type": "stream",
          "name": "stdout",
          "text": [
            "The first toss is head\n",
            "The second toss is head\n",
            "You win:3\n"
          ]
        }
      ]
    },
    {
      "cell_type": "code",
      "source": [
        "# One dimensional array\n",
        "np.random.rand(5)"
      ],
      "metadata": {
        "colab": {
          "base_uri": "https://localhost:8080/"
        },
        "id": "O_T4iHmyuhUv",
        "outputId": "e7d43005-7215-4659-f92a-4c7e3804a3c6"
      },
      "execution_count": 2,
      "outputs": [
        {
          "output_type": "execute_result",
          "data": {
            "text/plain": [
              "array([0.9808932 , 0.39591257, 0.22037022, 0.29255541, 0.78493867])"
            ]
          },
          "metadata": {},
          "execution_count": 2
        }
      ]
    },
    {
      "cell_type": "code",
      "source": [
        "# Matrix\n",
        "\n",
        "np.random.rand(6,2)"
      ],
      "metadata": {
        "colab": {
          "base_uri": "https://localhost:8080/"
        },
        "id": "vXiU5j_FuuKn",
        "outputId": "c7b42a0c-be5c-4426-dce8-bfc0b23ce801"
      },
      "execution_count": 4,
      "outputs": [
        {
          "output_type": "execute_result",
          "data": {
            "text/plain": [
              "array([[0.23838781, 0.30456679],\n",
              "       [0.27297659, 0.65627008],\n",
              "       [0.42531011, 0.17228667],\n",
              "       [0.4431855 , 0.81155326],\n",
              "       [0.69338471, 0.70065125],\n",
              "       [0.12005705, 0.72363113]])"
            ]
          },
          "metadata": {},
          "execution_count": 4
        }
      ]
    },
    {
      "cell_type": "markdown",
      "source": [
        "### Uniform distribution (a,b)"
      ],
      "metadata": {
        "id": "VoYYs1QcvORG"
      }
    },
    {
      "cell_type": "code",
      "source": [
        "# Single value\n",
        "\n",
        "np.random.uniform(low = -10, high = 0)"
      ],
      "metadata": {
        "colab": {
          "base_uri": "https://localhost:8080/"
        },
        "id": "NkMvVX4jvMm2",
        "outputId": "ba880117-e726-4115-8385-9fd654bcab5a"
      },
      "execution_count": 8,
      "outputs": [
        {
          "output_type": "execute_result",
          "data": {
            "text/plain": [
              "-9.053985954637279"
            ]
          },
          "metadata": {},
          "execution_count": 8
        }
      ]
    },
    {
      "cell_type": "code",
      "source": [
        "# One dimensional array\n",
        "\n",
        "np.random.uniform(low = -10, high = 0, size = 7)"
      ],
      "metadata": {
        "colab": {
          "base_uri": "https://localhost:8080/"
        },
        "id": "LGzIvwufv2rN",
        "outputId": "49d058b5-4d8b-4856-dfbe-7fba8575f746"
      },
      "execution_count": 9,
      "outputs": [
        {
          "output_type": "execute_result",
          "data": {
            "text/plain": [
              "array([-2.51761116, -2.14276772, -2.07535258, -3.98263445, -6.8967188 ,\n",
              "       -8.26399295, -9.19957215])"
            ]
          },
          "metadata": {},
          "execution_count": 9
        }
      ]
    },
    {
      "cell_type": "code",
      "source": [
        "# Matrix\n",
        "\n",
        "np.random.uniform(low = -10, high = 0, size = (5,4))"
      ],
      "metadata": {
        "colab": {
          "base_uri": "https://localhost:8080/"
        },
        "id": "4ZQCsqBdwL2d",
        "outputId": "aec78f76-7496-4903-a7f5-7ac87d9713f8"
      },
      "execution_count": 12,
      "outputs": [
        {
          "output_type": "execute_result",
          "data": {
            "text/plain": [
              "array([[-6.71172827, -8.52188671, -0.13147654, -4.54445934],\n",
              "       [-5.74678927, -1.42165312, -9.87172428, -8.49214635],\n",
              "       [-4.97037847, -1.24136577, -4.84687147, -9.66721273],\n",
              "       [-6.55444074, -7.81058475, -5.5953887 , -7.31430018],\n",
              "       [-6.30392044, -7.9534879 , -0.03646431, -4.23711207]])"
            ]
          },
          "metadata": {},
          "execution_count": 12
        }
      ]
    },
    {
      "cell_type": "code",
      "source": [
        "# Exercise\n",
        "meh = 60\n",
        "m = 80\n",
        "wow = 100\n",
        "\n",
        "np.random.uniform(low = meh, high = wow, size = (5,3))"
      ],
      "metadata": {
        "colab": {
          "base_uri": "https://localhost:8080/"
        },
        "id": "C-TTfwQSyRQP",
        "outputId": "0acf403b-f28c-46d6-e851-171ff3cf5422"
      },
      "execution_count": 38,
      "outputs": [
        {
          "output_type": "execute_result",
          "data": {
            "text/plain": [
              "array([[91.84271327, 69.14627579, 62.92617319],\n",
              "       [78.13557928, 90.94049339, 91.25040718],\n",
              "       [62.80763906, 94.68957327, 88.32223715],\n",
              "       [87.04794681, 78.47125924, 94.88883333],\n",
              "       [84.60819022, 89.4478109 , 89.32300939]])"
            ]
          },
          "metadata": {},
          "execution_count": 38
        }
      ]
    },
    {
      "cell_type": "markdown",
      "source": [
        "### Exercise\n",
        "\n",
        "Simulate the sale of a shop according to\n",
        "\n",
        "| Scenario | Prob | Sales |\n",
        "|----------|------|-------|\n",
        "| Bad      | 25%  |60     |\n",
        "|Normal    | 50%  |80     |\n",
        "|Wow       | 75%  |100    |"
      ],
      "metadata": {
        "id": "AuZwtkW10ozX"
      }
    },
    {
      "cell_type": "code",
      "source": [
        "# Solution\n",
        "\n",
        "for i in range(1,6):\n",
        "  tmp = np.random.rand()\n",
        "  if tmp <0.25:\n",
        "    print('Day:',1,'scenario: Bad', 'units sold: 60')\n",
        "  elif tmp >0.75:\n",
        "    print('Day','scenario: wow', 'units sold: 100')\n",
        "  "
      ],
      "metadata": {
        "colab": {
          "base_uri": "https://localhost:8080/"
        },
        "id": "wWd3RI2d1R8_",
        "outputId": "cd3856ae-77f2-4ae2-da71-9f3bd3f5ba6d"
      },
      "execution_count": 46,
      "outputs": [
        {
          "output_type": "stream",
          "name": "stdout",
          "text": [
            "scenario: wow units sold: 100\n",
            "scenario: Bad units sold: 60\n",
            "scenario: Bad units sold: 60\n",
            "scenario: wow units sold: 100\n",
            "scenario: Bad units sold: 60\n"
          ]
        }
      ]
    }
  ]
}